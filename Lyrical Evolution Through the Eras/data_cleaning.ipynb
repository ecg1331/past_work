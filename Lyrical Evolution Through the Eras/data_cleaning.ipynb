{
 "cells": [
  {
   "cell_type": "markdown",
   "metadata": {},
   "source": [
    "![](https://i.imgur.com/EHwHRCJ.jpeg)"
   ]
  },
  {
   "cell_type": "markdown",
   "metadata": {},
   "source": [
    "**Goal:** Correctly classify Taylor Swift lyric to correct album based on text data alone"
   ]
  },
  {
   "cell_type": "code",
   "execution_count": 1,
   "metadata": {},
   "outputs": [],
   "source": [
    "# calculation packages\n",
    "import numpy as np \n",
    "import pandas as pd \n",
    "from collections import Counter\n",
    "\n",
    "# sentiment analysis\n",
    "from vaderSentiment.vaderSentiment import SentimentIntensityAnalyzer\n",
    "\n",
    "# visualization\n",
    "import matplotlib.pyplot as plt\n",
    "\n",
    "# personal\n",
    "from creating_dataset import album_df"
   ]
  },
  {
   "cell_type": "markdown",
   "metadata": {},
   "source": [
    "\n",
    "![](https://i.imgur.com/bsi0iYG.png)"
   ]
  },
  {
   "cell_type": "markdown",
   "metadata": {},
   "source": [
    "**Original Data Source:** https://www.kaggle.com/datasets/thespacefreak/taylor-swift-song-lyrics-all-albums\n",
    "\n",
    "**Why I created my own:** \n",
    "My decision to build upon the original dataset came from my understanding of machine learning models, which have developed throughout the quarter, as well as previous research done in text lyric classification. The original data set, which separated lyrics line by line, seemed to lack the context that would be necessary for correct classification.\n",
    "\n",
    "For example, an example of a data point in the original dataset is: <br>\n",
    "‘But it would've been fun” <br>\n",
    "Whereas the same point in mine is: <br>\n",
    "But it would've been fun, If you would've been the one” <br>\n",
    "\n",
    "By combining consecutive lines, I was able to capture the fuller picture and provide the model with more contextual information to learn from, and in turn, perform classification texts better…\n",
    "\n",
    "Further, the original dataset was missing some of the more current songs (Taylor's Version and Midnights), as well as some of the unreleased songs from albums. I added approximately 40 more songs to the dataset using these functions I created.\n",
    "\n",
    "Another reason I created my dataset and these functions was to experiment with ‘lyric snippet’ length. In previous lyrical/poetry analyses, the entire length of the song/poem was used as one data point. Because my experiment revolves around only using 1 artist, this was not possible. However,  it doesn’t mean I couldn’t experiment with length. By creating these functions, I was able to run models through with ‘1’, ‘2’, and ‘3’ length lyrical snippets, and answer one of my research questions.\n",
    "\n",
    "The functions that I made are shown in 'creating_dataset.ipynb'"
   ]
  },
  {
   "cell_type": "code",
   "execution_count": 2,
   "metadata": {},
   "outputs": [
    {
     "data": {
      "text/html": [
       "<div>\n",
       "<style scoped>\n",
       "    .dataframe tbody tr th:only-of-type {\n",
       "        vertical-align: middle;\n",
       "    }\n",
       "\n",
       "    .dataframe tbody tr th {\n",
       "        vertical-align: top;\n",
       "    }\n",
       "\n",
       "    .dataframe thead th {\n",
       "        text-align: right;\n",
       "    }\n",
       "</style>\n",
       "<table border=\"1\" class=\"dataframe\">\n",
       "  <thead>\n",
       "    <tr style=\"text-align: right;\">\n",
       "      <th></th>\n",
       "      <th>album_name</th>\n",
       "      <th>track_title</th>\n",
       "      <th>track_n</th>\n",
       "      <th>lyric</th>\n",
       "      <th>line</th>\n",
       "    </tr>\n",
       "  </thead>\n",
       "  <tbody>\n",
       "    <tr>\n",
       "      <th>0</th>\n",
       "      <td>evermore (deluxe version)</td>\n",
       "      <td>willow</td>\n",
       "      <td>1</td>\n",
       "      <td>I'm like the water when your ship rolled in that night</td>\n",
       "      <td>1</td>\n",
       "    </tr>\n",
       "    <tr>\n",
       "      <th>1</th>\n",
       "      <td>evermore (deluxe version)</td>\n",
       "      <td>willow</td>\n",
       "      <td>1</td>\n",
       "      <td>Rough on the surface, but you cut through like a knife</td>\n",
       "      <td>2</td>\n",
       "    </tr>\n",
       "    <tr>\n",
       "      <th>2</th>\n",
       "      <td>evermore (deluxe version)</td>\n",
       "      <td>willow</td>\n",
       "      <td>1</td>\n",
       "      <td>And if it was an open-shut case</td>\n",
       "      <td>3</td>\n",
       "    </tr>\n",
       "    <tr>\n",
       "      <th>3</th>\n",
       "      <td>evermore (deluxe version)</td>\n",
       "      <td>willow</td>\n",
       "      <td>1</td>\n",
       "      <td>I never would've known from that look on your face</td>\n",
       "      <td>4</td>\n",
       "    </tr>\n",
       "    <tr>\n",
       "      <th>4</th>\n",
       "      <td>evermore (deluxe version)</td>\n",
       "      <td>willow</td>\n",
       "      <td>1</td>\n",
       "      <td>Lost in your current like a priceless wine</td>\n",
       "      <td>5</td>\n",
       "    </tr>\n",
       "  </tbody>\n",
       "</table>\n",
       "</div>"
      ],
      "text/plain": [
       "                  album_name track_title  track_n  \\\n",
       "0  evermore (deluxe version)      willow        1   \n",
       "1  evermore (deluxe version)      willow        1   \n",
       "2  evermore (deluxe version)      willow        1   \n",
       "3  evermore (deluxe version)      willow        1   \n",
       "4  evermore (deluxe version)      willow        1   \n",
       "\n",
       "                                                    lyric  line  \n",
       "0  I'm like the water when your ship rolled in that night     1  \n",
       "1  Rough on the surface, but you cut through like a knife     2  \n",
       "2                         And if it was an open-shut case     3  \n",
       "3      I never would've known from that look on your face     4  \n",
       "4              Lost in your current like a priceless wine     5  "
      ]
     },
     "execution_count": 2,
     "metadata": {},
     "output_type": "execute_result"
    }
   ],
   "source": [
    "pd.set_option('display.max_colwidth', None)\n",
    "# example of original data set, each album was it's own csv\n",
    "og_data = pd.read_csv('09-evermore_deluxe_version.csv')\n",
    "og_data.head()"
   ]
  },
  {
   "cell_type": "code",
   "execution_count": 4,
   "metadata": {},
   "outputs": [
    {
     "data": {
      "text/html": [
       "<div>\n",
       "<style scoped>\n",
       "    .dataframe tbody tr th:only-of-type {\n",
       "        vertical-align: middle;\n",
       "    }\n",
       "\n",
       "    .dataframe tbody tr th {\n",
       "        vertical-align: top;\n",
       "    }\n",
       "\n",
       "    .dataframe thead th {\n",
       "        text-align: right;\n",
       "    }\n",
       "</style>\n",
       "<table border=\"1\" class=\"dataframe\">\n",
       "  <thead>\n",
       "    <tr style=\"text-align: right;\">\n",
       "      <th></th>\n",
       "      <th>album_name</th>\n",
       "      <th>track_n</th>\n",
       "      <th>track</th>\n",
       "      <th>lyrics</th>\n",
       "    </tr>\n",
       "  </thead>\n",
       "  <tbody>\n",
       "    <tr>\n",
       "      <th>0</th>\n",
       "      <td>evermore (deluxe version)</td>\n",
       "      <td>willow</td>\n",
       "      <td>1</td>\n",
       "      <td>I'm like the water when your ship rolled in that night Rough on the surface, but you cut through like a knife</td>\n",
       "    </tr>\n",
       "    <tr>\n",
       "      <th>1</th>\n",
       "      <td>evermore (deluxe version)</td>\n",
       "      <td>willow</td>\n",
       "      <td>1</td>\n",
       "      <td>And if it was an open-shut case I never would've known from that look on your face</td>\n",
       "    </tr>\n",
       "    <tr>\n",
       "      <th>2</th>\n",
       "      <td>evermore (deluxe version)</td>\n",
       "      <td>willow</td>\n",
       "      <td>1</td>\n",
       "      <td>Lost in your current like a priceless wine The more that you say, the less I know</td>\n",
       "    </tr>\n",
       "    <tr>\n",
       "      <th>3</th>\n",
       "      <td>evermore (deluxe version)</td>\n",
       "      <td>willow</td>\n",
       "      <td>1</td>\n",
       "      <td>Wherever you stray, I follow I'm begging for you to take my hand</td>\n",
       "    </tr>\n",
       "    <tr>\n",
       "      <th>4</th>\n",
       "      <td>evermore (deluxe version)</td>\n",
       "      <td>willow</td>\n",
       "      <td>1</td>\n",
       "      <td>Wreck my plans, that's my man Life was a willow and it bent right to your wind</td>\n",
       "    </tr>\n",
       "  </tbody>\n",
       "</table>\n",
       "</div>"
      ],
      "text/plain": [
       "                  album_name track_n  track  \\\n",
       "0  evermore (deluxe version)  willow      1   \n",
       "1  evermore (deluxe version)  willow      1   \n",
       "2  evermore (deluxe version)  willow      1   \n",
       "3  evermore (deluxe version)  willow      1   \n",
       "4  evermore (deluxe version)  willow      1   \n",
       "\n",
       "                                                                                                          lyrics  \n",
       "0  I'm like the water when your ship rolled in that night Rough on the surface, but you cut through like a knife  \n",
       "1                             And if it was an open-shut case I never would've known from that look on your face  \n",
       "2                              Lost in your current like a priceless wine The more that you say, the less I know  \n",
       "3                                               Wherever you stray, I follow I'm begging for you to take my hand  \n",
       "4                                 Wreck my plans, that's my man Life was a willow and it bent right to your wind  "
      ]
     },
     "execution_count": 4,
     "metadata": {},
     "output_type": "execute_result"
    }
   ],
   "source": [
    "# and data after running the csv through my functions\n",
    "new_data = album_df('09-evermore_deluxe_version.csv', 17, False)\n",
    "new_data.head()"
   ]
  },
  {
   "cell_type": "code",
   "execution_count": 3,
   "metadata": {},
   "outputs": [
    {
     "data": {
      "text/html": [
       "<div>\n",
       "<style scoped>\n",
       "    .dataframe tbody tr th:only-of-type {\n",
       "        vertical-align: middle;\n",
       "    }\n",
       "\n",
       "    .dataframe tbody tr th {\n",
       "        vertical-align: top;\n",
       "    }\n",
       "\n",
       "    .dataframe thead th {\n",
       "        text-align: right;\n",
       "    }\n",
       "</style>\n",
       "<table border=\"1\" class=\"dataframe\">\n",
       "  <thead>\n",
       "    <tr style=\"text-align: right;\">\n",
       "      <th></th>\n",
       "      <th>album_name</th>\n",
       "      <th>track</th>\n",
       "      <th>track_n</th>\n",
       "      <th>lyrics</th>\n",
       "    </tr>\n",
       "  </thead>\n",
       "  <tbody>\n",
       "    <tr>\n",
       "      <th>0</th>\n",
       "      <td>Taylor Swift</td>\n",
       "      <td>Tim McGraw</td>\n",
       "      <td>1.0</td>\n",
       "      <td>He said the way my blue eyes shined Put those Georgia stars to shame that night</td>\n",
       "    </tr>\n",
       "    <tr>\n",
       "      <th>1</th>\n",
       "      <td>Taylor Swift</td>\n",
       "      <td>Tim McGraw</td>\n",
       "      <td>1.0</td>\n",
       "      <td>I said, \"That's a lie\" Just a boy in a Chevy truck</td>\n",
       "    </tr>\n",
       "    <tr>\n",
       "      <th>2</th>\n",
       "      <td>Taylor Swift</td>\n",
       "      <td>Tim McGraw</td>\n",
       "      <td>1.0</td>\n",
       "      <td>That had a tendency of gettin' stuck On back roads at night</td>\n",
       "    </tr>\n",
       "    <tr>\n",
       "      <th>3</th>\n",
       "      <td>Taylor Swift</td>\n",
       "      <td>Tim McGraw</td>\n",
       "      <td>1.0</td>\n",
       "      <td>And I was right there beside him all summer long And then the time we woke up to find that summer gone</td>\n",
       "    </tr>\n",
       "    <tr>\n",
       "      <th>4</th>\n",
       "      <td>Taylor Swift</td>\n",
       "      <td>Tim McGraw</td>\n",
       "      <td>1.0</td>\n",
       "      <td>But when you think Tim McGraw I hope you think my favorite song</td>\n",
       "    </tr>\n",
       "    <tr>\n",
       "      <th>...</th>\n",
       "      <td>...</td>\n",
       "      <td>...</td>\n",
       "      <td>...</td>\n",
       "      <td>...</td>\n",
       "    </tr>\n",
       "    <tr>\n",
       "      <th>5301</th>\n",
       "      <td>Taylor Swift</td>\n",
       "      <td>Diary Of Me</td>\n",
       "      <td>NaN</td>\n",
       "      <td>Get a look on the inside Oh what you get is what you see</td>\n",
       "    </tr>\n",
       "    <tr>\n",
       "      <th>5302</th>\n",
       "      <td>Taylor Swift</td>\n",
       "      <td>Diary Of Me</td>\n",
       "      <td>NaN</td>\n",
       "      <td>Baby you hold the key To the diary of me</td>\n",
       "    </tr>\n",
       "    <tr>\n",
       "      <th>5303</th>\n",
       "      <td>Taylor Swift</td>\n",
       "      <td>Diary Of Me</td>\n",
       "      <td>NaN</td>\n",
       "      <td>Yeah here I am an open book Turn the page it's all the rage</td>\n",
       "    </tr>\n",
       "    <tr>\n",
       "      <th>5304</th>\n",
       "      <td>Taylor Swift</td>\n",
       "      <td>Diary Of Me</td>\n",
       "      <td>NaN</td>\n",
       "      <td>Get a look on the inside Oh what you get is what you see</td>\n",
       "    </tr>\n",
       "    <tr>\n",
       "      <th>5305</th>\n",
       "      <td>Taylor Swift</td>\n",
       "      <td>Diary Of Me</td>\n",
       "      <td>NaN</td>\n",
       "      <td>Baby you hold the key To the diary of me</td>\n",
       "    </tr>\n",
       "  </tbody>\n",
       "</table>\n",
       "<p>5306 rows × 4 columns</p>\n",
       "</div>"
      ],
      "text/plain": [
       "        album_name        track  track_n  \\\n",
       "0     Taylor Swift   Tim McGraw      1.0   \n",
       "1     Taylor Swift   Tim McGraw      1.0   \n",
       "2     Taylor Swift   Tim McGraw      1.0   \n",
       "3     Taylor Swift   Tim McGraw      1.0   \n",
       "4     Taylor Swift   Tim McGraw      1.0   \n",
       "...            ...          ...      ...   \n",
       "5301  Taylor Swift  Diary Of Me      NaN   \n",
       "5302  Taylor Swift  Diary Of Me      NaN   \n",
       "5303  Taylor Swift  Diary Of Me      NaN   \n",
       "5304  Taylor Swift  Diary Of Me      NaN   \n",
       "5305  Taylor Swift  Diary Of Me      NaN   \n",
       "\n",
       "                                                                                                      lyrics  \n",
       "0                            He said the way my blue eyes shined Put those Georgia stars to shame that night  \n",
       "1                                                         I said, \"That's a lie\" Just a boy in a Chevy truck  \n",
       "2                                                That had a tendency of gettin' stuck On back roads at night  \n",
       "3     And I was right there beside him all summer long And then the time we woke up to find that summer gone  \n",
       "4                                            But when you think Tim McGraw I hope you think my favorite song  \n",
       "...                                                                                                      ...  \n",
       "5301                                                Get a look on the inside Oh what you get is what you see  \n",
       "5302                                                                Baby you hold the key To the diary of me  \n",
       "5303                                             Yeah here I am an open book Turn the page it's all the rage  \n",
       "5304                                                Get a look on the inside Oh what you get is what you see  \n",
       "5305                                                                Baby you hold the key To the diary of me  \n",
       "\n",
       "[5306 rows x 4 columns]"
      ]
     },
     "execution_count": 3,
     "metadata": {},
     "output_type": "execute_result"
    }
   ],
   "source": [
    "# after creating a new version for each each album, adding in newer music, and concatenating the csvs\n",
    "# I ended up with this dataset. Now, I will move onto cleaning and exploring the dataset\n",
    "data = pd.read_csv('final_data.csv')\n",
    "data"
   ]
  },
  {
   "cell_type": "markdown",
   "metadata": {},
   "source": [
    "![](https://i.imgur.com/pyAOrXH.png)"
   ]
  },
  {
   "cell_type": "markdown",
   "metadata": {},
   "source": [
    "# Cleaning The Dataset\n",
    "* Because I added unreleased songs without track numbers, I have many NaN values, which caused my track_n column to be converted to floats.\n",
    "* If I was keeping this column, I would fill the zeros. However, this column is not necessary for my analysis so I will drop it, along with 'track'."
   ]
  },
  {
   "cell_type": "code",
   "execution_count": 4,
   "metadata": {},
   "outputs": [
    {
     "data": {
      "text/html": [
       "<div>\n",
       "<style scoped>\n",
       "    .dataframe tbody tr th:only-of-type {\n",
       "        vertical-align: middle;\n",
       "    }\n",
       "\n",
       "    .dataframe tbody tr th {\n",
       "        vertical-align: top;\n",
       "    }\n",
       "\n",
       "    .dataframe thead th {\n",
       "        text-align: right;\n",
       "    }\n",
       "</style>\n",
       "<table border=\"1\" class=\"dataframe\">\n",
       "  <thead>\n",
       "    <tr style=\"text-align: right;\">\n",
       "      <th></th>\n",
       "      <th>album_name</th>\n",
       "      <th>lyrics</th>\n",
       "    </tr>\n",
       "  </thead>\n",
       "  <tbody>\n",
       "    <tr>\n",
       "      <th>0</th>\n",
       "      <td>Taylor Swift</td>\n",
       "      <td>He said the way my blue eyes shined Put those Georgia stars to shame that night</td>\n",
       "    </tr>\n",
       "    <tr>\n",
       "      <th>1</th>\n",
       "      <td>Taylor Swift</td>\n",
       "      <td>I said, \"That's a lie\" Just a boy in a Chevy truck</td>\n",
       "    </tr>\n",
       "    <tr>\n",
       "      <th>2</th>\n",
       "      <td>Taylor Swift</td>\n",
       "      <td>That had a tendency of gettin' stuck On back roads at night</td>\n",
       "    </tr>\n",
       "    <tr>\n",
       "      <th>3</th>\n",
       "      <td>Taylor Swift</td>\n",
       "      <td>And I was right there beside him all summer long And then the time we woke up to find that summer gone</td>\n",
       "    </tr>\n",
       "    <tr>\n",
       "      <th>4</th>\n",
       "      <td>Taylor Swift</td>\n",
       "      <td>But when you think Tim McGraw I hope you think my favorite song</td>\n",
       "    </tr>\n",
       "    <tr>\n",
       "      <th>...</th>\n",
       "      <td>...</td>\n",
       "      <td>...</td>\n",
       "    </tr>\n",
       "    <tr>\n",
       "      <th>5301</th>\n",
       "      <td>Taylor Swift</td>\n",
       "      <td>Get a look on the inside Oh what you get is what you see</td>\n",
       "    </tr>\n",
       "    <tr>\n",
       "      <th>5302</th>\n",
       "      <td>Taylor Swift</td>\n",
       "      <td>Baby you hold the key To the diary of me</td>\n",
       "    </tr>\n",
       "    <tr>\n",
       "      <th>5303</th>\n",
       "      <td>Taylor Swift</td>\n",
       "      <td>Yeah here I am an open book Turn the page it's all the rage</td>\n",
       "    </tr>\n",
       "    <tr>\n",
       "      <th>5304</th>\n",
       "      <td>Taylor Swift</td>\n",
       "      <td>Get a look on the inside Oh what you get is what you see</td>\n",
       "    </tr>\n",
       "    <tr>\n",
       "      <th>5305</th>\n",
       "      <td>Taylor Swift</td>\n",
       "      <td>Baby you hold the key To the diary of me</td>\n",
       "    </tr>\n",
       "  </tbody>\n",
       "</table>\n",
       "<p>5306 rows × 2 columns</p>\n",
       "</div>"
      ],
      "text/plain": [
       "        album_name  \\\n",
       "0     Taylor Swift   \n",
       "1     Taylor Swift   \n",
       "2     Taylor Swift   \n",
       "3     Taylor Swift   \n",
       "4     Taylor Swift   \n",
       "...            ...   \n",
       "5301  Taylor Swift   \n",
       "5302  Taylor Swift   \n",
       "5303  Taylor Swift   \n",
       "5304  Taylor Swift   \n",
       "5305  Taylor Swift   \n",
       "\n",
       "                                                                                                      lyrics  \n",
       "0                            He said the way my blue eyes shined Put those Georgia stars to shame that night  \n",
       "1                                                         I said, \"That's a lie\" Just a boy in a Chevy truck  \n",
       "2                                                That had a tendency of gettin' stuck On back roads at night  \n",
       "3     And I was right there beside him all summer long And then the time we woke up to find that summer gone  \n",
       "4                                            But when you think Tim McGraw I hope you think my favorite song  \n",
       "...                                                                                                      ...  \n",
       "5301                                                Get a look on the inside Oh what you get is what you see  \n",
       "5302                                                                Baby you hold the key To the diary of me  \n",
       "5303                                             Yeah here I am an open book Turn the page it's all the rage  \n",
       "5304                                                Get a look on the inside Oh what you get is what you see  \n",
       "5305                                                                Baby you hold the key To the diary of me  \n",
       "\n",
       "[5306 rows x 2 columns]"
      ]
     },
     "execution_count": 4,
     "metadata": {},
     "output_type": "execute_result"
    }
   ],
   "source": [
    "data = data.drop(['track', 'track_n'], axis = 1)\n",
    "data"
   ]
  },
  {
   "cell_type": "code",
   "execution_count": 7,
   "metadata": {},
   "outputs": [
    {
     "data": {
      "text/plain": [
       "album_name    0\n",
       "lyrics        0\n",
       "dtype: int64"
      ]
     },
     "execution_count": 7,
     "metadata": {},
     "output_type": "execute_result"
    }
   ],
   "source": [
    "# now I will make sure I have no other missing values\n",
    "data.isnull().sum()"
   ]
  },
  {
   "cell_type": "markdown",
   "metadata": {},
   "source": [
    "- Since I added in newer versions of albums ('Taylor's Version'), I need to combine the albums correctly"
   ]
  },
  {
   "cell_type": "code",
   "execution_count": 8,
   "metadata": {},
   "outputs": [
    {
     "data": {
      "text/plain": [
       "array(['Taylor Swift', 'Fearless', 'Speak Now (Deluxe)', 'Speak Now',\n",
       "       'Red (Deluxe Edition)', 'Red', '1989 (Deluxe)', '1989',\n",
       "       'reputation', 'Lover', 'evermore (deluxe version)',\n",
       "       'folklore (deluxe version)', 'Midnights', 'Paris'], dtype=object)"
      ]
     },
     "execution_count": 8,
     "metadata": {},
     "output_type": "execute_result"
    }
   ],
   "source": [
    "data['album_name'].unique()"
   ]
  },
  {
   "cell_type": "markdown",
   "metadata": {},
   "source": [
    "**There are a lot of different title's here which point to the same album.**\n",
    "    \n",
    "* First, I will merge 'Speak Now (Deluxe)' and 'Speak Now', 'Red (Deluxe Edition)' 'Red' and '1989 (Deluxe)', '1989'. \n",
    "* I will also be replacing evermore (deluxe version) with evermore and folklore (deluxe version) with folklore for simplicity.\n",
    "* I will also explore why ‘Paris’ is showing up as an album when it is a song.\n"
   ]
  },
  {
   "cell_type": "code",
   "execution_count": 9,
   "metadata": {},
   "outputs": [
    {
     "data": {
      "text/plain": [
       "array(['Taylor Swift', 'Fearless', 'Speak Now', 'Red', '1989',\n",
       "       'reputation', 'Lover', 'evermore', 'folklore', 'Midnights',\n",
       "       'Paris'], dtype=object)"
      ]
     },
     "execution_count": 9,
     "metadata": {},
     "output_type": "execute_result"
    }
   ],
   "source": [
    "# correcting album titles\n",
    "data['album_name'] = data['album_name'].replace(['Speak Now (Deluxe)', 'Red (Deluxe Edition)', '1989 (Deluxe)', 'evermore (deluxe version)', 'folklore (deluxe version)'], \n",
    "                         ['Speak Now', 'Red', '1989', 'evermore', 'folklore'])\n",
    "\n",
    "# double checking my work\n",
    "data['album_name'].unique()"
   ]
  },
  {
   "cell_type": "code",
   "execution_count": 10,
   "metadata": {},
   "outputs": [
    {
     "data": {
      "text/html": [
       "<div>\n",
       "<style scoped>\n",
       "    .dataframe tbody tr th:only-of-type {\n",
       "        vertical-align: middle;\n",
       "    }\n",
       "\n",
       "    .dataframe tbody tr th {\n",
       "        vertical-align: top;\n",
       "    }\n",
       "\n",
       "    .dataframe thead th {\n",
       "        text-align: right;\n",
       "    }\n",
       "</style>\n",
       "<table border=\"1\" class=\"dataframe\">\n",
       "  <thead>\n",
       "    <tr style=\"text-align: right;\">\n",
       "      <th></th>\n",
       "      <th>album_name</th>\n",
       "      <th>lyrics</th>\n",
       "    </tr>\n",
       "  </thead>\n",
       "  <tbody>\n",
       "    <tr>\n",
       "      <th>5038</th>\n",
       "      <td>Paris</td>\n",
       "      <td>\"Your ex-friend's sister Met someone at a club...</td>\n",
       "    </tr>\n",
       "    <tr>\n",
       "      <th>5039</th>\n",
       "      <td>Paris</td>\n",
       "      <td>Turns out it was that guy you hooked up with a...</td>\n",
       "    </tr>\n",
       "    <tr>\n",
       "      <th>5040</th>\n",
       "      <td>Paris</td>\n",
       "      <td>And all the outfits were terrible 2003 unbearable</td>\n",
       "    </tr>\n",
       "    <tr>\n",
       "      <th>5041</th>\n",
       "      <td>Paris</td>\n",
       "      <td>Did you see the photos?\" No, I didn't, but tha...</td>\n",
       "    </tr>\n",
       "    <tr>\n",
       "      <th>5042</th>\n",
       "      <td>Paris</td>\n",
       "      <td>I'm so in love that I might stop breathing Dre...</td>\n",
       "    </tr>\n",
       "    <tr>\n",
       "      <th>5043</th>\n",
       "      <td>Paris</td>\n",
       "      <td>No, I didn't see the news 'Cause we were somew...</td>\n",
       "    </tr>\n",
       "    <tr>\n",
       "      <th>5044</th>\n",
       "      <td>Paris</td>\n",
       "      <td>Stumbled down pretend alleyways Cheap wine, ma...</td>\n",
       "    </tr>\n",
       "    <tr>\n",
       "      <th>5045</th>\n",
       "      <td>Paris</td>\n",
       "      <td>I was taken by the view Like we were in Paris</td>\n",
       "    </tr>\n",
       "    <tr>\n",
       "      <th>5046</th>\n",
       "      <td>Paris</td>\n",
       "      <td>Like we were somewhere else Like we were in Pa...</td>\n",
       "    </tr>\n",
       "    <tr>\n",
       "      <th>5047</th>\n",
       "      <td>Paris</td>\n",
       "      <td>We were somewhere else Privacy sign on the door</td>\n",
       "    </tr>\n",
       "    <tr>\n",
       "      <th>5048</th>\n",
       "      <td>Paris</td>\n",
       "      <td>And on my page and on the whole world Romance ...</td>\n",
       "    </tr>\n",
       "    <tr>\n",
       "      <th>5049</th>\n",
       "      <td>Paris</td>\n",
       "      <td>Levitate above all the messes made Sit quiet b...</td>\n",
       "    </tr>\n",
       "    <tr>\n",
       "      <th>5050</th>\n",
       "      <td>Paris</td>\n",
       "      <td>And not the kind that's thrown I mean, the kin...</td>\n",
       "    </tr>\n",
       "    <tr>\n",
       "      <th>5051</th>\n",
       "      <td>Paris</td>\n",
       "      <td>I'm so in love that I might stop breathing Dre...</td>\n",
       "    </tr>\n",
       "    <tr>\n",
       "      <th>5052</th>\n",
       "      <td>Paris</td>\n",
       "      <td>No, I didn't see the news 'Cause we were somew...</td>\n",
       "    </tr>\n",
       "    <tr>\n",
       "      <th>5053</th>\n",
       "      <td>Paris</td>\n",
       "      <td>Stumbled down pretend alleyways Cheap wine, ma...</td>\n",
       "    </tr>\n",
       "    <tr>\n",
       "      <th>5054</th>\n",
       "      <td>Paris</td>\n",
       "      <td>I was taken by the view Like we were in Paris, oh</td>\n",
       "    </tr>\n",
       "    <tr>\n",
       "      <th>5055</th>\n",
       "      <td>Paris</td>\n",
       "      <td>Like we were somewhere else Like we were in Pa...</td>\n",
       "    </tr>\n",
       "    <tr>\n",
       "      <th>5056</th>\n",
       "      <td>Paris</td>\n",
       "      <td>We were somewhere else I wanna brainwash you</td>\n",
       "    </tr>\n",
       "    <tr>\n",
       "      <th>5057</th>\n",
       "      <td>Paris</td>\n",
       "      <td>Into loving me forever I wanna transport you</td>\n",
       "    </tr>\n",
       "    <tr>\n",
       "      <th>5058</th>\n",
       "      <td>Paris</td>\n",
       "      <td>To somewhere the culture's clever Confess my t...</td>\n",
       "    </tr>\n",
       "    <tr>\n",
       "      <th>5059</th>\n",
       "      <td>Paris</td>\n",
       "      <td>In swooping, sloping, cursive letters Let the ...</td>\n",
       "    </tr>\n",
       "    <tr>\n",
       "      <th>5060</th>\n",
       "      <td>Paris</td>\n",
       "      <td>In my mind We drew a map on your bedroom ceiling</td>\n",
       "    </tr>\n",
       "    <tr>\n",
       "      <th>5061</th>\n",
       "      <td>Paris</td>\n",
       "      <td>No, I didn't see the news 'Cause we were somew...</td>\n",
       "    </tr>\n",
       "    <tr>\n",
       "      <th>5062</th>\n",
       "      <td>Paris</td>\n",
       "      <td>In an alleyway, drinking champagne 'Cause we w...</td>\n",
       "    </tr>\n",
       "    <tr>\n",
       "      <th>5063</th>\n",
       "      <td>Paris</td>\n",
       "      <td>Yes, we were somewhere else My love, we were i...</td>\n",
       "    </tr>\n",
       "    <tr>\n",
       "      <th>5064</th>\n",
       "      <td>Paris</td>\n",
       "      <td>Yes, we were somewhere else</td>\n",
       "    </tr>\n",
       "  </tbody>\n",
       "</table>\n",
       "</div>"
      ],
      "text/plain": [
       "     album_name                                             lyrics\n",
       "5038      Paris  \"Your ex-friend's sister Met someone at a club...\n",
       "5039      Paris  Turns out it was that guy you hooked up with a...\n",
       "5040      Paris  And all the outfits were terrible 2003 unbearable\n",
       "5041      Paris  Did you see the photos?\" No, I didn't, but tha...\n",
       "5042      Paris  I'm so in love that I might stop breathing Dre...\n",
       "5043      Paris  No, I didn't see the news 'Cause we were somew...\n",
       "5044      Paris  Stumbled down pretend alleyways Cheap wine, ma...\n",
       "5045      Paris      I was taken by the view Like we were in Paris\n",
       "5046      Paris  Like we were somewhere else Like we were in Pa...\n",
       "5047      Paris    We were somewhere else Privacy sign on the door\n",
       "5048      Paris  And on my page and on the whole world Romance ...\n",
       "5049      Paris  Levitate above all the messes made Sit quiet b...\n",
       "5050      Paris  And not the kind that's thrown I mean, the kin...\n",
       "5051      Paris  I'm so in love that I might stop breathing Dre...\n",
       "5052      Paris  No, I didn't see the news 'Cause we were somew...\n",
       "5053      Paris  Stumbled down pretend alleyways Cheap wine, ma...\n",
       "5054      Paris  I was taken by the view Like we were in Paris, oh\n",
       "5055      Paris  Like we were somewhere else Like we were in Pa...\n",
       "5056      Paris       We were somewhere else I wanna brainwash you\n",
       "5057      Paris       Into loving me forever I wanna transport you\n",
       "5058      Paris  To somewhere the culture's clever Confess my t...\n",
       "5059      Paris  In swooping, sloping, cursive letters Let the ...\n",
       "5060      Paris   In my mind We drew a map on your bedroom ceiling\n",
       "5061      Paris  No, I didn't see the news 'Cause we were somew...\n",
       "5062      Paris  In an alleyway, drinking champagne 'Cause we w...\n",
       "5063      Paris  Yes, we were somewhere else My love, we were i...\n",
       "5064      Paris                        Yes, we were somewhere else"
      ]
     },
     "execution_count": 10,
     "metadata": {},
     "output_type": "execute_result"
    }
   ],
   "source": [
    "# now I will be exploring why 'Paris' is showing up as an album\n",
    "data[data['album_name'] == 'Paris']"
   ]
  },
  {
   "cell_type": "code",
   "execution_count": 11,
   "metadata": {},
   "outputs": [
    {
     "data": {
      "text/plain": [
       "array(['taylor swift', 'fearless', 'speak now', 'red', '1989',\n",
       "       'reputation', 'lover', 'evermore', 'folklore', 'midnights'],\n",
       "      dtype=object)"
      ]
     },
     "execution_count": 11,
     "metadata": {},
     "output_type": "execute_result"
    }
   ],
   "source": [
    "# this is confirmation that it was mislabeled during creating. This song is from the album 'Midnights' so I will be correcting that\n",
    "data['album_name'] = data['album_name'].replace(['Paris'], ['Midnights'])\n",
    "\n",
    "# I will also be lowering all the names for conformity\n",
    "data['album_name'] = data['album_name'].str.lower()\n",
    "\n",
    "# checking my work\n",
    "data['album_name'].unique()"
   ]
  },
  {
   "cell_type": "markdown",
   "metadata": {},
   "source": [
    "- I am happy with the album_name column, and I will move onto cleaning the lyric column.\n",
    "- Since I will be using tf-idf vectorization, I will not have to do things like stripping special characters or lowering the strings.\n",
    "- However, since these are song lyrics, there are probably a lot of duplicate lines throughout the dataset coming from the chorus and bridges.\n",
    "- I will be checking for those and removing any."
   ]
  },
  {
   "cell_type": "code",
   "execution_count": 12,
   "metadata": {},
   "outputs": [
    {
     "data": {
      "text/html": [
       "<div>\n",
       "<style scoped>\n",
       "    .dataframe tbody tr th:only-of-type {\n",
       "        vertical-align: middle;\n",
       "    }\n",
       "\n",
       "    .dataframe tbody tr th {\n",
       "        vertical-align: top;\n",
       "    }\n",
       "\n",
       "    .dataframe thead th {\n",
       "        text-align: right;\n",
       "    }\n",
       "</style>\n",
       "<table border=\"1\" class=\"dataframe\">\n",
       "  <thead>\n",
       "    <tr style=\"text-align: right;\">\n",
       "      <th></th>\n",
       "      <th>album_name</th>\n",
       "      <th>lyrics</th>\n",
       "    </tr>\n",
       "  </thead>\n",
       "  <tbody>\n",
       "    <tr>\n",
       "      <th>14</th>\n",
       "      <td>taylor swift</td>\n",
       "      <td>The one we danced to all night long The moon l...</td>\n",
       "    </tr>\n",
       "    <tr>\n",
       "      <th>15</th>\n",
       "      <td>taylor swift</td>\n",
       "      <td>When you think happiness I hope you think that...</td>\n",
       "    </tr>\n",
       "    <tr>\n",
       "      <th>16</th>\n",
       "      <td>taylor swift</td>\n",
       "      <td>Think of my head on your chest And my old fade...</td>\n",
       "    </tr>\n",
       "    <tr>\n",
       "      <th>17</th>\n",
       "      <td>taylor swift</td>\n",
       "      <td>When you think Tim McGraw I hope you think of me</td>\n",
       "    </tr>\n",
       "    <tr>\n",
       "      <th>22</th>\n",
       "      <td>taylor swift</td>\n",
       "      <td>When you think happiness I hope you think that...</td>\n",
       "    </tr>\n",
       "    <tr>\n",
       "      <th>...</th>\n",
       "      <td>...</td>\n",
       "      <td>...</td>\n",
       "    </tr>\n",
       "    <tr>\n",
       "      <th>5295</th>\n",
       "      <td>taylor swift</td>\n",
       "      <td>Baby you hold the key To the diary of me</td>\n",
       "    </tr>\n",
       "    <tr>\n",
       "      <th>5301</th>\n",
       "      <td>taylor swift</td>\n",
       "      <td>Get a look on the inside Oh what you get is wh...</td>\n",
       "    </tr>\n",
       "    <tr>\n",
       "      <th>5302</th>\n",
       "      <td>taylor swift</td>\n",
       "      <td>Baby you hold the key To the diary of me</td>\n",
       "    </tr>\n",
       "    <tr>\n",
       "      <th>5304</th>\n",
       "      <td>taylor swift</td>\n",
       "      <td>Get a look on the inside Oh what you get is wh...</td>\n",
       "    </tr>\n",
       "    <tr>\n",
       "      <th>5305</th>\n",
       "      <td>taylor swift</td>\n",
       "      <td>Baby you hold the key To the diary of me</td>\n",
       "    </tr>\n",
       "  </tbody>\n",
       "</table>\n",
       "<p>723 rows × 2 columns</p>\n",
       "</div>"
      ],
      "text/plain": [
       "        album_name                                             lyrics\n",
       "14    taylor swift  The one we danced to all night long The moon l...\n",
       "15    taylor swift  When you think happiness I hope you think that...\n",
       "16    taylor swift  Think of my head on your chest And my old fade...\n",
       "17    taylor swift   When you think Tim McGraw I hope you think of me\n",
       "22    taylor swift  When you think happiness I hope you think that...\n",
       "...            ...                                                ...\n",
       "5295  taylor swift           Baby you hold the key To the diary of me\n",
       "5301  taylor swift  Get a look on the inside Oh what you get is wh...\n",
       "5302  taylor swift           Baby you hold the key To the diary of me\n",
       "5304  taylor swift  Get a look on the inside Oh what you get is wh...\n",
       "5305  taylor swift           Baby you hold the key To the diary of me\n",
       "\n",
       "[723 rows x 2 columns]"
      ]
     },
     "execution_count": 12,
     "metadata": {},
     "output_type": "execute_result"
    }
   ],
   "source": [
    "# checking for duplicates\n",
    "duplicates = data[data.duplicated(subset='lyrics')]\n",
    "duplicates"
   ]
  },
  {
   "cell_type": "code",
   "execution_count": 13,
   "metadata": {},
   "outputs": [
    {
     "name": "stdout",
     "output_type": "stream",
     "text": [
      "before dropping duplicates: (5306, 2)\n",
      "after dropping duplicates: (4584, 2)\n"
     ]
    }
   ],
   "source": [
    "# dropping the duplicates\n",
    "print('before dropping duplicates:', data.shape)\n",
    "data = data.drop_duplicates()\n",
    "print('after dropping duplicates:', data.shape)"
   ]
  },
  {
   "cell_type": "markdown",
   "metadata": {},
   "source": [
    "- And finally, I will be checking the types of my columns.\n",
    "- Since they are strings, they should both be appearing as objects.\n",
    "- My album_name column could be catagorical, but since these are just being used as labels it is unnecessary to change the type."
   ]
  },
  {
   "cell_type": "code",
   "execution_count": 14,
   "metadata": {},
   "outputs": [
    {
     "name": "stdout",
     "output_type": "stream",
     "text": [
      "album_name type: object\n",
      "lyric type: object\n"
     ]
    }
   ],
   "source": [
    "print('album_name type:', data['album_name'].dtypes)\n",
    "print('lyric type:', data['lyrics'].dtypes)"
   ]
  },
  {
   "cell_type": "markdown",
   "metadata": {},
   "source": [
    "- Now that I have gathered and cleaned my data, I will begin to explore the data.\n",
    "- I will first look at some of the album's that haven't been shown yet."
   ]
  },
  {
   "cell_type": "code",
   "execution_count": 2,
   "metadata": {},
   "outputs": [],
   "source": [
    "data = pd.read_csv('thisone.csv')\n",
    "data = data.drop('Unnamed: 0', axis=1)"
   ]
  },
  {
   "cell_type": "markdown",
   "metadata": {},
   "source": [
    "# Data Exploration"
   ]
  },
  {
   "cell_type": "code",
   "execution_count": 16,
   "metadata": {},
   "outputs": [
    {
     "data": {
      "text/html": [
       "<div>\n",
       "<style scoped>\n",
       "    .dataframe tbody tr th:only-of-type {\n",
       "        vertical-align: middle;\n",
       "    }\n",
       "\n",
       "    .dataframe tbody tr th {\n",
       "        vertical-align: top;\n",
       "    }\n",
       "\n",
       "    .dataframe thead th {\n",
       "        text-align: right;\n",
       "    }\n",
       "</style>\n",
       "<table border=\"1\" class=\"dataframe\">\n",
       "  <thead>\n",
       "    <tr style=\"text-align: right;\">\n",
       "      <th></th>\n",
       "      <th>album_name</th>\n",
       "      <th>lyrics</th>\n",
       "    </tr>\n",
       "  </thead>\n",
       "  <tbody>\n",
       "    <tr>\n",
       "      <th>0</th>\n",
       "      <td>taylor swift</td>\n",
       "      <td>He said the way my blue eyes shined Put those ...</td>\n",
       "    </tr>\n",
       "    <tr>\n",
       "      <th>1</th>\n",
       "      <td>taylor swift</td>\n",
       "      <td>I said, \"That's a lie\" Just a boy in a Chevy t...</td>\n",
       "    </tr>\n",
       "    <tr>\n",
       "      <th>2</th>\n",
       "      <td>taylor swift</td>\n",
       "      <td>That had a tendency of gettin' stuck On back r...</td>\n",
       "    </tr>\n",
       "    <tr>\n",
       "      <th>3</th>\n",
       "      <td>taylor swift</td>\n",
       "      <td>And I was right there beside him all summer lo...</td>\n",
       "    </tr>\n",
       "    <tr>\n",
       "      <th>4</th>\n",
       "      <td>taylor swift</td>\n",
       "      <td>But when you think Tim McGraw I hope you think...</td>\n",
       "    </tr>\n",
       "  </tbody>\n",
       "</table>\n",
       "</div>"
      ],
      "text/plain": [
       "     album_name                                             lyrics\n",
       "0  taylor swift  He said the way my blue eyes shined Put those ...\n",
       "1  taylor swift  I said, \"That's a lie\" Just a boy in a Chevy t...\n",
       "2  taylor swift  That had a tendency of gettin' stuck On back r...\n",
       "3  taylor swift  And I was right there beside him all summer lo...\n",
       "4  taylor swift  But when you think Tim McGraw I hope you think..."
      ]
     },
     "execution_count": 16,
     "metadata": {},
     "output_type": "execute_result"
    }
   ],
   "source": [
    "data.head()"
   ]
  },
  {
   "cell_type": "code",
   "execution_count": 5,
   "metadata": {},
   "outputs": [
    {
     "data": {
      "text/html": [
       "<div>\n",
       "<style scoped>\n",
       "    .dataframe tbody tr th:only-of-type {\n",
       "        vertical-align: middle;\n",
       "    }\n",
       "\n",
       "    .dataframe tbody tr th {\n",
       "        vertical-align: top;\n",
       "    }\n",
       "\n",
       "    .dataframe thead th {\n",
       "        text-align: right;\n",
       "    }\n",
       "</style>\n",
       "<table border=\"1\" class=\"dataframe\">\n",
       "  <thead>\n",
       "    <tr style=\"text-align: right;\">\n",
       "      <th></th>\n",
       "      <th>album_name</th>\n",
       "      <th>lyrics</th>\n",
       "    </tr>\n",
       "  </thead>\n",
       "  <tbody>\n",
       "    <tr>\n",
       "      <th>207</th>\n",
       "      <td>fearless</td>\n",
       "      <td>There's something 'bout the way The street loo...</td>\n",
       "    </tr>\n",
       "    <tr>\n",
       "      <th>208</th>\n",
       "      <td>fearless</td>\n",
       "      <td>There's a glow off the pavement, you walk me t...</td>\n",
       "    </tr>\n",
       "    <tr>\n",
       "      <th>209</th>\n",
       "      <td>fearless</td>\n",
       "      <td>In the middle of the parking lot, yeah Oh, yeah</td>\n",
       "    </tr>\n",
       "    <tr>\n",
       "      <th>210</th>\n",
       "      <td>fearless</td>\n",
       "      <td>We're driving down the road, I wonder if you k...</td>\n",
       "    </tr>\n",
       "    <tr>\n",
       "      <th>211</th>\n",
       "      <td>fearless</td>\n",
       "      <td>But you're just so cool, run your hands throug...</td>\n",
       "    </tr>\n",
       "  </tbody>\n",
       "</table>\n",
       "</div>"
      ],
      "text/plain": [
       "    album_name                                             lyrics\n",
       "207   fearless  There's something 'bout the way The street loo...\n",
       "208   fearless  There's a glow off the pavement, you walk me t...\n",
       "209   fearless    In the middle of the parking lot, yeah Oh, yeah\n",
       "210   fearless  We're driving down the road, I wonder if you k...\n",
       "211   fearless  But you're just so cool, run your hands throug..."
      ]
     },
     "execution_count": 5,
     "metadata": {},
     "output_type": "execute_result"
    }
   ],
   "source": [
    "# checking the different albums\n",
    "# fearless\n",
    "fearless = data[data['album_name'] == 'fearless']\n",
    "fearless.head()"
   ]
  },
  {
   "cell_type": "code",
   "execution_count": 6,
   "metadata": {},
   "outputs": [
    {
     "data": {
      "text/html": [
       "<div>\n",
       "<style scoped>\n",
       "    .dataframe tbody tr th:only-of-type {\n",
       "        vertical-align: middle;\n",
       "    }\n",
       "\n",
       "    .dataframe tbody tr th {\n",
       "        vertical-align: top;\n",
       "    }\n",
       "\n",
       "    .dataframe thead th {\n",
       "        text-align: right;\n",
       "    }\n",
       "</style>\n",
       "<table border=\"1\" class=\"dataframe\">\n",
       "  <thead>\n",
       "    <tr style=\"text-align: right;\">\n",
       "      <th></th>\n",
       "      <th>album_name</th>\n",
       "      <th>lyrics</th>\n",
       "    </tr>\n",
       "  </thead>\n",
       "  <tbody>\n",
       "    <tr>\n",
       "      <th>1911</th>\n",
       "      <td>1989</td>\n",
       "      <td>Walking through a crowd, the village is aglow ...</td>\n",
       "    </tr>\n",
       "    <tr>\n",
       "      <th>1912</th>\n",
       "      <td>1989</td>\n",
       "      <td>Everybody here wanted something more Searching...</td>\n",
       "    </tr>\n",
       "    <tr>\n",
       "      <th>1913</th>\n",
       "      <td>1989</td>\n",
       "      <td>And it said Welcome to New York, it's been wai...</td>\n",
       "    </tr>\n",
       "    <tr>\n",
       "      <th>1914</th>\n",
       "      <td>1989</td>\n",
       "      <td>Welcome to New York, welcome to New York Welco...</td>\n",
       "    </tr>\n",
       "    <tr>\n",
       "      <th>1915</th>\n",
       "      <td>1989</td>\n",
       "      <td>Welcome to New York, welcome to New York It's ...</td>\n",
       "    </tr>\n",
       "  </tbody>\n",
       "</table>\n",
       "</div>"
      ],
      "text/plain": [
       "     album_name                                             lyrics\n",
       "1911       1989  Walking through a crowd, the village is aglow ...\n",
       "1912       1989  Everybody here wanted something more Searching...\n",
       "1913       1989  And it said Welcome to New York, it's been wai...\n",
       "1914       1989  Welcome to New York, welcome to New York Welco...\n",
       "1915       1989  Welcome to New York, welcome to New York It's ..."
      ]
     },
     "execution_count": 6,
     "metadata": {},
     "output_type": "execute_result"
    }
   ],
   "source": [
    "# 1989\n",
    "ts1989 = data[data['album_name'] == '1989']\n",
    "ts1989.head()"
   ]
  },
  {
   "cell_type": "code",
   "execution_count": 7,
   "metadata": {},
   "outputs": [
    {
     "data": {
      "text/html": [
       "<div>\n",
       "<style scoped>\n",
       "    .dataframe tbody tr th:only-of-type {\n",
       "        vertical-align: middle;\n",
       "    }\n",
       "\n",
       "    .dataframe tbody tr th {\n",
       "        vertical-align: top;\n",
       "    }\n",
       "\n",
       "    .dataframe thead th {\n",
       "        text-align: right;\n",
       "    }\n",
       "</style>\n",
       "<table border=\"1\" class=\"dataframe\">\n",
       "  <thead>\n",
       "    <tr style=\"text-align: right;\">\n",
       "      <th></th>\n",
       "      <th>album_name</th>\n",
       "      <th>lyrics</th>\n",
       "    </tr>\n",
       "  </thead>\n",
       "  <tbody>\n",
       "    <tr>\n",
       "      <th>4037</th>\n",
       "      <td>midnights</td>\n",
       "      <td>Meet me at midnight Staring at the ceiling wit...</td>\n",
       "    </tr>\n",
       "    <tr>\n",
       "      <th>4038</th>\n",
       "      <td>midnights</td>\n",
       "      <td>Oh, you don't ever say too much And you don't ...</td>\n",
       "    </tr>\n",
       "    <tr>\n",
       "      <th>4039</th>\n",
       "      <td>midnights</td>\n",
       "      <td>My melancholia I been under scrutiny (Yeah, oh...</td>\n",
       "    </tr>\n",
       "    <tr>\n",
       "      <th>4040</th>\n",
       "      <td>midnights</td>\n",
       "      <td>You handle it beautifully (Yeah, oh, yeah) All...</td>\n",
       "    </tr>\n",
       "    <tr>\n",
       "      <th>4041</th>\n",
       "      <td>midnights</td>\n",
       "      <td>I feel the lavender haze creeping up on me Sur...</td>\n",
       "    </tr>\n",
       "  </tbody>\n",
       "</table>\n",
       "</div>"
      ],
      "text/plain": [
       "     album_name                                             lyrics\n",
       "4037  midnights  Meet me at midnight Staring at the ceiling wit...\n",
       "4038  midnights  Oh, you don't ever say too much And you don't ...\n",
       "4039  midnights  My melancholia I been under scrutiny (Yeah, oh...\n",
       "4040  midnights  You handle it beautifully (Yeah, oh, yeah) All...\n",
       "4041  midnights  I feel the lavender haze creeping up on me Sur..."
      ]
     },
     "execution_count": 7,
     "metadata": {},
     "output_type": "execute_result"
    }
   ],
   "source": [
    "# midnights\n",
    "midnights = data[data['album_name'] == 'midnights']\n",
    "midnights.head()"
   ]
  },
  {
   "cell_type": "markdown",
   "metadata": {},
   "source": [
    "- Those all look good, now I want to check the distribution of albums."
   ]
  },
  {
   "cell_type": "code",
   "execution_count": 16,
   "metadata": {},
   "outputs": [
    {
     "data": {
      "text/plain": [
       "Text(0.5, 0, 'Album')"
      ]
     },
     "execution_count": 16,
     "metadata": {},
     "output_type": "execute_result"
    },
    {
     "data": {
      "image/png": "[encoded data removed]",
      "text/plain": [
       "<Figure size 640x480 with 1 Axes>"
      ]
     },
     "metadata": {},
     "output_type": "display_data"
    }
   ],
   "source": [
    "colors = ['r', 'darkorchid', 'lightskyblue', 'gold', 'k', 'navy', \n",
    "             'wheat', 'lightpink', 'mediumturquoise', 'slategrey']\n",
    "\n",
    "data.album_name.value_counts().plot(kind='bar', color=colors);\n",
    "\n",
    "plt.title('Album Data Distribution');\n",
    "plt.ylabel('Amount of Data')\n",
    "plt.xlabel('Album')"
   ]
  },
  {
   "cell_type": "code",
   "execution_count": 17,
   "metadata": {},
   "outputs": [
    {
     "data": {
      "text/plain": [
       "album_name\n",
       "red             658\n",
       "1989            537\n",
       "speak now       532\n",
       "fearless        514\n",
       "reputation      424\n",
       "midnights       416\n",
       "evermore        415\n",
       "lover           413\n",
       "taylor swift    338\n",
       "folklore        337\n",
       "Name: count, dtype: int64"
      ]
     },
     "execution_count": 17,
     "metadata": {},
     "output_type": "execute_result"
    }
   ],
   "source": [
    "# checking actual counts closer\n",
    "data['album_name'].value_counts()"
   ]
  },
  {
   "cell_type": "markdown",
   "metadata": {},
   "source": [
    "- There seems to be a slight over representation of 'red', which makes sense, because this album has a 10 minute song. When I train, test, and split the data I will be able to take care of this overrepresentation through the stratifying parameter if necessary.\n",
    "- All of the songs which have more data come from rereleased version's of albums where she added more songs (and then I added into the dataset) so this distribution makes a lot of sense."
   ]
  },
  {
   "cell_type": "markdown",
   "metadata": {},
   "source": [
    "**Sentiment Analysis** <br>\n",
    "To further explore my data, I will be using ‘Vader’ sentiment analysis to see if there are any major differences in sentiment between the albums. Vader will return 4 different sentiment analyses all scored from -1 to +1: <br>\n",
    "1. The negative sentiment score <br>\n",
    "2. The neutral sentiment score <br>\n",
    "3. The positive sentiment score <br>\n",
    "4. The overall sentiment score <br>\n"
   ]
  },
  {
   "cell_type": "code",
   "execution_count": 20,
   "metadata": {},
   "outputs": [],
   "source": [
    "# creating a sentiment analysis object\n",
    "analyzer = SentimentIntensityAnalyzer()"
   ]
  },
  {
   "cell_type": "code",
   "execution_count": 21,
   "metadata": {},
   "outputs": [
    {
     "name": "stdout",
     "output_type": "stream",
     "text": [
      "album: taylor swift\n",
      "sentiment score: {'neg': 0.079, 'neu': 0.74, 'pos': 0.182, 'compound': 1.0}\n"
     ]
    },
    {
     "name": "stdout",
     "output_type": "stream",
     "text": [
      "album: fearless\n",
      "sentiment score: {'neg': 0.083, 'neu': 0.754, 'pos': 0.163, 'compound': 1.0}\n",
      "album: speak now\n",
      "sentiment score: {'neg': 0.087, 'neu': 0.769, 'pos': 0.144, 'compound': 1.0}\n",
      "album: red\n",
      "sentiment score: {'neg': 0.084, 'neu': 0.735, 'pos': 0.181, 'compound': 1.0}\n",
      "album: 1989\n",
      "sentiment score: {'neg': 0.101, 'neu': 0.694, 'pos': 0.205, 'compound': 1.0}\n",
      "album: reputation\n",
      "sentiment score: {'neg': 0.1, 'neu': 0.739, 'pos': 0.161, 'compound': 0.9999}\n",
      "album: lover\n",
      "sentiment score: {'neg': 0.106, 'neu': 0.697, 'pos': 0.197, 'compound': 1.0}\n",
      "album: evermore\n",
      "sentiment score: {'neg': 0.121, 'neu': 0.735, 'pos': 0.145, 'compound': 0.9996}\n",
      "album: folklore\n",
      "sentiment score: {'neg': 0.122, 'neu': 0.738, 'pos': 0.141, 'compound': 0.9991}\n",
      "album: midnights\n",
      "sentiment score: {'neg': 0.108, 'neu': 0.714, 'pos': 0.178, 'compound': 0.9999}\n"
     ]
    }
   ],
   "source": [
    "# extracting albums to iterate over\n",
    "album_name = data['album_name'].unique()\n",
    "\n",
    "for album in album_name:\n",
    "    \n",
    "    album_df = data[data['album_name'] == album]\n",
    "    lyrics = album_df['lyrics']\n",
    "    lyrics = ' '.join(lyrics)\n",
    "    sentiment_score = analyzer.polarity_scores(lyrics)\n",
    "\n",
    "    print('album:', album)\n",
    "    print('sentiment score:', sentiment_score)\n",
    "    "
   ]
  },
  {
   "cell_type": "markdown",
   "metadata": {},
   "source": [
    "From here, we can see that Vader has classified all of her albums as overwhelmingly positive, with very little variation. However, there appears to be enough differentiation between the negative, neutral, and positive that makes a compelling case for a machine learning model to be able to classify the albums based on text data."
   ]
  }
 ],
 "metadata": {
  "kernelspec": {
   "display_name": "Python 3 (ipykernel)",
   "language": "python",
   "name": "python3"
  },
  "language_info": {
   "codemirror_mode": {
    "name": "ipython",
    "version": 3
   },
   "file_extension": ".py",
   "mimetype": "text/x-python",
   "name": "python",
   "nbconvert_exporter": "python",
   "pygments_lexer": "ipython3",
   "version": "3.11.5"
  }
 },
 "nbformat": 4,
 "nbformat_minor": 2
}
