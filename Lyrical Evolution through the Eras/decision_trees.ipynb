{
 "cells": [
  {
   "cell_type": "markdown",
   "metadata": {},
   "source": [
    "![](https://i.imgur.com/EHwHRCJ.jpeg)"
   ]
  },
  {
   "cell_type": "markdown",
   "metadata": {},
   "source": [
    "**Goal:** Correctly classify Taylor Swift lyric to correct album based on text data alone"
   ]
  },
  {
   "cell_type": "code",
   "execution_count": 2,
   "metadata": {},
   "outputs": [],
   "source": [
    "# various libraries\n",
    "# calculation packages\n",
    "import numpy as np \n",
    "import pandas as pd \n",
    "from collections import Counter\n",
    "\n",
    "# textual analysis packages \n",
    "from sklearn.feature_extraction.text import TfidfVectorizer\n",
    "from sklearn.feature_extraction import text\n",
    "\n",
    "# machine learning packages\n",
    "from sklearn.metrics import confusion_matrix\n",
    "from sklearn.metrics import classification_report\n",
    "from sklearn.model_selection import train_test_split\n",
    "from sklearn import tree\n",
    "from sklearn.ensemble import RandomForestClassifier\n",
    "\n",
    "# visualization\n",
    "import matplotlib.pyplot as plt"
   ]
  },
  {
   "cell_type": "code",
   "execution_count": 3,
   "metadata": {},
   "outputs": [],
   "source": [
    "# data\n",
    "data = pd.read_csv('/Users/emma/Desktop/oldschool/ml_perspectives/project/data/thisone.csv')\n",
    "data = data.drop('Unnamed: 0', axis=1)"
   ]
  },
  {
   "cell_type": "code",
   "execution_count": 4,
   "metadata": {},
   "outputs": [
    {
     "name": "stdout",
     "output_type": "stream",
     "text": [
      "(4584, 49457)\n"
     ]
    },
    {
     "data": {
      "text/html": [
       "<div>\n",
       "<style scoped>\n",
       "    .dataframe tbody tr th:only-of-type {\n",
       "        vertical-align: middle;\n",
       "    }\n",
       "\n",
       "    .dataframe tbody tr th {\n",
       "        vertical-align: top;\n",
       "    }\n",
       "\n",
       "    .dataframe thead th {\n",
       "        text-align: right;\n",
       "    }\n",
       "</style>\n",
       "<table border=\"1\" class=\"dataframe\">\n",
       "  <thead>\n",
       "    <tr style=\"text-align: right;\">\n",
       "      <th></th>\n",
       "      <th>0</th>\n",
       "      <th>1</th>\n",
       "    </tr>\n",
       "  </thead>\n",
       "  <tbody>\n",
       "    <tr>\n",
       "      <th>0</th>\n",
       "      <td>you</td>\n",
       "      <td>148.890813</td>\n",
       "    </tr>\n",
       "    <tr>\n",
       "      <th>1</th>\n",
       "      <td>me</td>\n",
       "      <td>73.944305</td>\n",
       "    </tr>\n",
       "    <tr>\n",
       "      <th>2</th>\n",
       "      <td>my</td>\n",
       "      <td>63.418646</td>\n",
       "    </tr>\n",
       "    <tr>\n",
       "      <th>3</th>\n",
       "      <td>oh</td>\n",
       "      <td>59.750744</td>\n",
       "    </tr>\n",
       "    <tr>\n",
       "      <th>4</th>\n",
       "      <td>we</td>\n",
       "      <td>52.266900</td>\n",
       "    </tr>\n",
       "    <tr>\n",
       "      <th>5</th>\n",
       "      <td>your</td>\n",
       "      <td>52.208628</td>\n",
       "    </tr>\n",
       "    <tr>\n",
       "      <th>6</th>\n",
       "      <td>all</td>\n",
       "      <td>47.852716</td>\n",
       "    </tr>\n",
       "    <tr>\n",
       "      <th>7</th>\n",
       "      <td>like</td>\n",
       "      <td>46.305066</td>\n",
       "    </tr>\n",
       "    <tr>\n",
       "      <th>8</th>\n",
       "      <td>know</td>\n",
       "      <td>42.288580</td>\n",
       "    </tr>\n",
       "    <tr>\n",
       "      <th>9</th>\n",
       "      <td>so</td>\n",
       "      <td>37.412549</td>\n",
       "    </tr>\n",
       "    <tr>\n",
       "      <th>10</th>\n",
       "      <td>when</td>\n",
       "      <td>36.507293</td>\n",
       "    </tr>\n",
       "    <tr>\n",
       "      <th>11</th>\n",
       "      <td>just</td>\n",
       "      <td>33.784479</td>\n",
       "    </tr>\n",
       "    <tr>\n",
       "      <th>12</th>\n",
       "      <td>never</td>\n",
       "      <td>33.284531</td>\n",
       "    </tr>\n",
       "    <tr>\n",
       "      <th>13</th>\n",
       "      <td>love</td>\n",
       "      <td>32.986648</td>\n",
       "    </tr>\n",
       "    <tr>\n",
       "      <th>14</th>\n",
       "      <td>oh oh</td>\n",
       "      <td>32.872976</td>\n",
       "    </tr>\n",
       "    <tr>\n",
       "      <th>15</th>\n",
       "      <td>can</td>\n",
       "      <td>32.701313</td>\n",
       "    </tr>\n",
       "    <tr>\n",
       "      <th>16</th>\n",
       "      <td>now</td>\n",
       "      <td>31.008053</td>\n",
       "    </tr>\n",
       "    <tr>\n",
       "      <th>17</th>\n",
       "      <td>what</td>\n",
       "      <td>29.267935</td>\n",
       "    </tr>\n",
       "    <tr>\n",
       "      <th>18</th>\n",
       "      <td>time</td>\n",
       "      <td>29.004960</td>\n",
       "    </tr>\n",
       "    <tr>\n",
       "      <th>19</th>\n",
       "      <td>up</td>\n",
       "      <td>28.449700</td>\n",
       "    </tr>\n",
       "    <tr>\n",
       "      <th>20</th>\n",
       "      <td>cause</td>\n",
       "      <td>27.372446</td>\n",
       "    </tr>\n",
       "  </tbody>\n",
       "</table>\n",
       "</div>"
      ],
      "text/plain": [
       "        0           1\n",
       "0     you  148.890813\n",
       "1      me   73.944305\n",
       "2      my   63.418646\n",
       "3      oh   59.750744\n",
       "4      we   52.266900\n",
       "5    your   52.208628\n",
       "6     all   47.852716\n",
       "7    like   46.305066\n",
       "8    know   42.288580\n",
       "9      so   37.412549\n",
       "10   when   36.507293\n",
       "11   just   33.784479\n",
       "12  never   33.284531\n",
       "13   love   32.986648\n",
       "14  oh oh   32.872976\n",
       "15    can   32.701313\n",
       "16    now   31.008053\n",
       "17   what   29.267935\n",
       "18   time   29.004960\n",
       "19     up   28.449700\n",
       "20  cause   27.372446"
      ]
     },
     "execution_count": 4,
     "metadata": {},
     "output_type": "execute_result"
    }
   ],
   "source": [
    "# feature engineering\n",
    "def looking_at_top(X, features):\n",
    "    '''\n",
    "    Takes in vectorized data and feature names to show the top 20 most \n",
    "    important features\n",
    "    Inputs:\n",
    "        X: (numpy array) an array of tf-idf vectorized features\n",
    "        features: (numpy array) an array of the names of the features\n",
    "    '''\n",
    "    \n",
    "    feature_np = np.asarray(np.sum(X, axis = 0))\n",
    "    feature_np = feature_np.reshape(-1)\n",
    "\n",
    "    top = []\n",
    "\n",
    "    for x in np.argsort(feature_np)[::-1][:21]:\n",
    "        top.append((features[x], feature_np[x]))\n",
    "\n",
    "        df = pd.DataFrame(top)\n",
    "    \n",
    "    return df\n",
    "\n",
    "# stop words\n",
    "stop_words = ['a', 'an', 'and', 'are', 'as', 'at', 'be', 'but', 'by', 'for', 'if', 'in', 'into', 'is', 'it', \n",
    "              'not', 'of', 'on', 'or', 'such', 'that', 'the', 'their', 'then', 'there', 'these', 'they', 'this', 'to', 'was', 'will', 'with', 're', \n",
    "              'don', 've', 'll', 'isn', ]\n",
    "\n",
    "# isolating lyrics\n",
    "lyric_text = data['lyrics']\n",
    "\n",
    "\n",
    "#NGRAM(1, 3)\n",
    "vectorizer = TfidfVectorizer(strip_accents = 'ascii', stop_words = stop_words, ngram_range= (1, 3))\n",
    "\n",
    "# fitting\n",
    "X_13 = vectorizer.fit_transform(lyric_text)\n",
    "\n",
    "# checking shape\n",
    "print(X_13.shape)\n",
    "\n",
    "# checking features\n",
    "feature_names_13 = vectorizer.get_feature_names_out()\n",
    "\n",
    "looking_at_top(X_13, feature_names_13)\n"
   ]
  },
  {
   "cell_type": "markdown",
   "metadata": {},
   "source": [
    "![](https://i.imgur.com/8wiA92h.png)"
   ]
  },
  {
   "cell_type": "markdown",
   "metadata": {},
   "source": [
    "# Decision Trees\n",
    "\n",
    "- I am using (1,3) ngram length because that is what has traditionally perfomed the best "
   ]
  },
  {
   "cell_type": "code",
   "execution_count": 5,
   "metadata": {},
   "outputs": [],
   "source": [
    "album_names = data['album_name']\n",
    "\n",
    "# non strat version, using (1,3)\n",
    "X_train, X_test, y_train, y_test = train_test_split(X_13, album_names, test_size = 0.2, random_state = 13)"
   ]
  },
  {
   "cell_type": "code",
   "execution_count": 6,
   "metadata": {},
   "outputs": [
    {
     "data": {
      "text/plain": [
       "0.371"
      ]
     },
     "execution_count": 6,
     "metadata": {},
     "output_type": "execute_result"
    }
   ],
   "source": [
    "dtc = tree.DecisionTreeClassifier(random_state = 13)\n",
    "\n",
    "# fitting\n",
    "dtc.fit(X_train, y_train)\n",
    "\n",
    "# evaluating\n",
    "round(dtc.score(X_test, y_test), 3)"
   ]
  },
  {
   "cell_type": "code",
   "execution_count": 7,
   "metadata": {},
   "outputs": [
    {
     "name": "stdout",
     "output_type": "stream",
     "text": [
      "depth: 308\n",
      "number of leaves: 1624\n"
     ]
    }
   ],
   "source": [
    "# poor performance, checking to see depth before attempting to visualize\n",
    "print('depth:', dtc.get_depth())\n",
    "\n",
    "print('number of leaves:', dtc.get_n_leaves())"
   ]
  },
  {
   "cell_type": "code",
   "execution_count": 45,
   "metadata": {},
   "outputs": [
    {
     "data": {
      "text/plain": [
       "0.395"
      ]
     },
     "execution_count": 45,
     "metadata": {},
     "output_type": "execute_result"
    }
   ],
   "source": [
    "# addressing the overfitting issues, do not want to visualize, tree is too large\n",
    "dtc = tree.DecisionTreeClassifier(max_depth = 300, splitter = 'random', min_samples_split = 4, random_state = 13)\n",
    "dtc.fit(X_train, y_train)\n",
    "round(dtc.score(X_test, y_test), 3)"
   ]
  },
  {
   "cell_type": "code",
   "execution_count": 46,
   "metadata": {},
   "outputs": [
    {
     "name": "stdout",
     "output_type": "stream",
     "text": [
      "depth: 300\n",
      "number of leaves: 1490\n"
     ]
    }
   ],
   "source": [
    "print('depth:', dtc.get_depth())\n",
    "print('number of leaves:', dtc.get_n_leaves())"
   ]
  },
  {
   "cell_type": "markdown",
   "metadata": {},
   "source": [
    "**Stratified DTC**"
   ]
  },
  {
   "cell_type": "code",
   "execution_count": 32,
   "metadata": {},
   "outputs": [],
   "source": [
    "# stratified data\n",
    "X_train_s, X_test_s, y_train_s, y_test_s = train_test_split(X_13, album_names, test_size = 0.2, random_state = 13, stratify = album_names)"
   ]
  },
  {
   "cell_type": "code",
   "execution_count": 33,
   "metadata": {},
   "outputs": [
    {
     "data": {
      "text/plain": [
       "0.36"
      ]
     },
     "execution_count": 33,
     "metadata": {},
     "output_type": "execute_result"
    }
   ],
   "source": [
    "dtc = tree.DecisionTreeClassifier(random_state = 13)\n",
    "\n",
    "# fitting\n",
    "dtc.fit(X_train_s, y_train_s)\n",
    "\n",
    "# evaluating\n",
    "round(dtc.score(X_test_s, y_test_s), 3)"
   ]
  },
  {
   "cell_type": "code",
   "execution_count": 29,
   "metadata": {},
   "outputs": [
    {
     "data": {
      "text/plain": [
       "0.364"
      ]
     },
     "execution_count": 29,
     "metadata": {},
     "output_type": "execute_result"
    }
   ],
   "source": [
    "# using strat data on best performing tree\n",
    "dtc = tree.DecisionTreeClassifier(max_depth = 200, splitter = 'best', min_samples_split = 4, random_state = 13)\n",
    "\n",
    "# fitting\n",
    "dtc.fit(X_train_s, y_train_s)\n",
    "\n",
    "# evaluating\n",
    "round(dtc.score(X_test_s, y_test_s), 3)"
   ]
  },
  {
   "cell_type": "code",
   "execution_count": 30,
   "metadata": {},
   "outputs": [
    {
     "name": "stdout",
     "output_type": "stream",
     "text": [
      "depth: 200\n",
      "number of leaves: 1284\n"
     ]
    }
   ],
   "source": [
    "print('depth:', dtc.get_depth())\n",
    "print('number of leaves:', dtc.get_n_leaves())"
   ]
  },
  {
   "cell_type": "markdown",
   "metadata": {},
   "source": [
    "- When the test size in decreased, the unstratified data performs better"
   ]
  },
  {
   "cell_type": "code",
   "execution_count": 50,
   "metadata": {},
   "outputs": [
    {
     "data": {
      "text/plain": [
       "0.395"
      ]
     },
     "execution_count": 50,
     "metadata": {},
     "output_type": "execute_result"
    }
   ],
   "source": [
    "# best performing tree\n",
    "X_train, X_test, y_train, y_test = train_test_split(X_13, album_names, test_size = 0.2, random_state = 13)\n",
    "dtc = tree.DecisionTreeClassifier(max_depth = 300, splitter = 'random', min_samples_split = 4, random_state = 13)\n",
    "dtc.fit(X_train, y_train)\n",
    "round(dtc.score(X_test, y_test), 3)"
   ]
  },
  {
   "cell_type": "code",
   "execution_count": 51,
   "metadata": {},
   "outputs": [
    {
     "data": {
      "text/plain": [
       "array([[43,  5,  7,  6,  8,  5, 15,  3,  9,  4],\n",
       "       [12, 21,  3, 11,  5,  9,  7,  0,  7,  1],\n",
       "       [ 7,  3, 48,  5,  8,  5, 16,  3,  7,  3],\n",
       "       [11,  1,  5, 22,  5,  0,  8,  4,  0,  4],\n",
       "       [ 8,  2,  5,  5, 27,  6, 10,  8, 13,  3],\n",
       "       [ 7,  9,  3,  2,  5, 35,  8,  4,  8,  2],\n",
       "       [10,  6,  9,  9,  6,  7, 65,  8,  8,  7],\n",
       "       [ 8,  1,  2,  7,  6,  0,  6, 35,  5,  4],\n",
       "       [15,  6, 14,  9,  6, 12, 11,  3, 44,  3],\n",
       "       [ 7,  1,  4,  8,  2,  5,  6,  6,  8, 22]])"
      ]
     },
     "execution_count": 51,
     "metadata": {},
     "output_type": "execute_result"
    }
   ],
   "source": [
    "# looking at confusion matrix and classification report to get a better idea of model perfomrance\n",
    "y_pred = dtc.predict(X_test)\n",
    "confusion_m = confusion_matrix(y_test, y_pred)\n",
    "confusion_m"
   ]
  },
  {
   "cell_type": "code",
   "execution_count": 53,
   "metadata": {},
   "outputs": [
    {
     "name": "stdout",
     "output_type": "stream",
     "text": [
      "              precision    recall  f1-score   support\n",
      "\n",
      "        1989       0.34      0.41      0.37       105\n",
      "    evermore       0.38      0.28      0.32        76\n",
      "    fearless       0.48      0.46      0.47       105\n",
      "    folklore       0.26      0.37      0.31        60\n",
      "       lover       0.35      0.31      0.33        87\n",
      "   midnights       0.42      0.42      0.42        83\n",
      "         red       0.43      0.48      0.45       135\n",
      "  reputation       0.47      0.47      0.47        74\n",
      "   speak now       0.40      0.36      0.38       123\n",
      "taylor swift       0.42      0.32      0.36        69\n",
      "\n",
      "    accuracy                           0.39       917\n",
      "   macro avg       0.39      0.39      0.39       917\n",
      "weighted avg       0.40      0.39      0.39       917\n",
      "\n"
     ]
    }
   ],
   "source": [
    "print(classification_report(y_test, y_pred))"
   ]
  },
  {
   "cell_type": "markdown",
   "metadata": {},
   "source": [
    "- The classification report and the confusion matrix confirm the model is not preforming well"
   ]
  },
  {
   "cell_type": "code",
   "execution_count": 54,
   "metadata": {},
   "outputs": [
    {
     "data": {
      "text/html": [
       "<div>\n",
       "<style scoped>\n",
       "    .dataframe tbody tr th:only-of-type {\n",
       "        vertical-align: middle;\n",
       "    }\n",
       "\n",
       "    .dataframe tbody tr th {\n",
       "        vertical-align: top;\n",
       "    }\n",
       "\n",
       "    .dataframe thead th {\n",
       "        text-align: right;\n",
       "    }\n",
       "</style>\n",
       "<table border=\"1\" class=\"dataframe\">\n",
       "  <thead>\n",
       "    <tr style=\"text-align: right;\">\n",
       "      <th></th>\n",
       "      <th>feature</th>\n",
       "      <th>importance</th>\n",
       "    </tr>\n",
       "  </thead>\n",
       "  <tbody>\n",
       "    <tr>\n",
       "      <th>0</th>\n",
       "      <td>your</td>\n",
       "      <td>0.0097</td>\n",
       "    </tr>\n",
       "    <tr>\n",
       "      <th>1</th>\n",
       "      <td>love</td>\n",
       "      <td>0.0096</td>\n",
       "    </tr>\n",
       "    <tr>\n",
       "      <th>2</th>\n",
       "      <td>my</td>\n",
       "      <td>0.0086</td>\n",
       "    </tr>\n",
       "    <tr>\n",
       "      <th>3</th>\n",
       "      <td>you</td>\n",
       "      <td>0.0082</td>\n",
       "    </tr>\n",
       "    <tr>\n",
       "      <th>4</th>\n",
       "      <td>me</td>\n",
       "      <td>0.0078</td>\n",
       "    </tr>\n",
       "    <tr>\n",
       "      <th>5</th>\n",
       "      <td>baby</td>\n",
       "      <td>0.0065</td>\n",
       "    </tr>\n",
       "    <tr>\n",
       "      <th>6</th>\n",
       "      <td>we</td>\n",
       "      <td>0.0065</td>\n",
       "    </tr>\n",
       "    <tr>\n",
       "      <th>7</th>\n",
       "      <td>all</td>\n",
       "      <td>0.0062</td>\n",
       "    </tr>\n",
       "    <tr>\n",
       "      <th>8</th>\n",
       "      <td>now</td>\n",
       "      <td>0.0057</td>\n",
       "    </tr>\n",
       "    <tr>\n",
       "      <th>9</th>\n",
       "      <td>oh</td>\n",
       "      <td>0.0051</td>\n",
       "    </tr>\n",
       "  </tbody>\n",
       "</table>\n",
       "</div>"
      ],
      "text/plain": [
       "  feature  importance\n",
       "0    your      0.0097\n",
       "1    love      0.0096\n",
       "2      my      0.0086\n",
       "3     you      0.0082\n",
       "4      me      0.0078\n",
       "5    baby      0.0065\n",
       "6      we      0.0065\n",
       "7     all      0.0062\n",
       "8     now      0.0057\n",
       "9      oh      0.0051"
      ]
     },
     "execution_count": 54,
     "metadata": {},
     "output_type": "execute_result"
    }
   ],
   "source": [
    "# interested in seeing the feature importance of each feature in the DTC\n",
    "\n",
    "# getting the importance\n",
    "importance = np.round(dtc.feature_importances_, 4)\n",
    "\n",
    "# creating df\n",
    "df = pd.DataFrame({'feature': feature_names_13, 'importance': importance})\n",
    "\n",
    "# sorting the df\n",
    "df = df.sort_values(by='importance', ascending=False)\n",
    "\n",
    "df = df.reset_index(drop=True)\n",
    "\n",
    "df.head(10)"
   ]
  },
  {
   "cell_type": "markdown",
   "metadata": {},
   "source": [
    "# Random Forest\n",
    "\n",
    "- Want to see if performance can be increased by using a more robust model"
   ]
  },
  {
   "cell_type": "code",
   "execution_count": 55,
   "metadata": {},
   "outputs": [
    {
     "data": {
      "text/plain": [
       "0.547"
      ]
     },
     "execution_count": 55,
     "metadata": {},
     "output_type": "execute_result"
    }
   ],
   "source": [
    "# non strat\n",
    "rfc = RandomForestClassifier(random_state = 13)\n",
    "\n",
    "rfc.fit(X_train, y_train)\n",
    "\n",
    "round(rfc.score(X_test, y_test), 3)"
   ]
  },
  {
   "cell_type": "code",
   "execution_count": 56,
   "metadata": {},
   "outputs": [
    {
     "data": {
      "text/plain": [
       "0.551"
      ]
     },
     "execution_count": 56,
     "metadata": {},
     "output_type": "execute_result"
    }
   ],
   "source": [
    "# strat\n",
    "rfc = RandomForestClassifier(random_state = 13)\n",
    "\n",
    "rfc.fit(X_train_s, y_train_s)\n",
    "\n",
    "round(rfc.score(X_test_s, y_test_s), 3)"
   ]
  },
  {
   "cell_type": "code",
   "execution_count": 59,
   "metadata": {},
   "outputs": [
    {
     "name": "stdout",
     "output_type": "stream",
     "text": [
      "scores: [0.571, 0.53, 0.52, 0.564, 0.525, 0.545]\n",
      "average score: 0.542\n"
     ]
    }
   ],
   "source": [
    "from sklearn.model_selection import KFold\n",
    "\n",
    "scores = []\n",
    "X = X_13\n",
    "y = data['album_name']\n",
    "\n",
    "kf = KFold(n_splits=6, shuffle = True, random_state = 13)\n",
    "\n",
    "for train, test in kf.split(X, y):\n",
    "    X_train, X_test = X[train], X[test]\n",
    "    y_train, y_test = y[train], y[test]\n",
    "\n",
    "    rfc = RandomForestClassifier(random_state = 13).fit(X_train, y_train)\n",
    "    score = round(rfc.score(X_test, y_test),3)\n",
    "    scores.append(score)\n",
    "\n",
    "print('scores:', scores)\n",
    "mean_score = np.mean(scores)\n",
    "print('average score:', np.round(mean_score, 3))"
   ]
  },
  {
   "cell_type": "code",
   "execution_count": 58,
   "metadata": {},
   "outputs": [
    {
     "name": "stdout",
     "output_type": "stream",
     "text": [
      "scores: [0.556, 0.522, 0.529, 0.573, 0.562, 0.556]\n",
      "average score: 0.55\n"
     ]
    }
   ],
   "source": [
    "from sklearn.model_selection import StratifiedKFold\n",
    "\n",
    "scores = []\n",
    "X = X_13\n",
    "y = data['album_name']\n",
    "\n",
    "strat_kf = StratifiedKFold(n_splits=6, shuffle = True, random_state = 13)\n",
    "\n",
    "for train, test in strat_kf.split(X, y):\n",
    "    X_train, X_test = X[train], X[test]\n",
    "    y_train, y_test = y[train], y[test]\n",
    "\n",
    "    rfc = RandomForestClassifier(random_state = 13).fit(X_train, y_train)\n",
    "    score = round(rfc.score(X_test, y_test),3)\n",
    "    scores.append(score)\n",
    "\n",
    "print('scores:', scores)\n",
    "mean_score = np.mean(scores)\n",
    "print('average score:', np.round(mean_score, 3))"
   ]
  },
  {
   "cell_type": "markdown",
   "metadata": {},
   "source": [
    "- Interestingly enough, the RF performs slightly better with stratified data, but it's not a big enough difference for me to be convinced. \n",
    "- I will do kfold validation to see if it truly is performing better"
   ]
  },
  {
   "cell_type": "code",
   "execution_count": 37,
   "metadata": {},
   "outputs": [
    {
     "data": {
      "text/plain": [
       "array([[ 96,   4,  10,   1,   3,   4,  21,   7,  10,   5],\n",
       "       [ 15,  57,   1,   3,   4,   3,  19,  11,  10,   2],\n",
       "       [ 13,   3,  77,   3,   3,   3,  24,   2,  19,   7],\n",
       "       [ 11,   4,   6,  40,   0,   7,  15,   8,  10,   0],\n",
       "       [ 11,   3,   3,   0,  68,   3,  19,  13,   4,   0],\n",
       "       [ 12,   3,   6,   4,   1,  58,  17,  10,  11,   3],\n",
       "       [ 17,   5,  12,   2,   3,   8, 126,   7,  14,   4],\n",
       "       [  6,   5,   2,   0,   3,   2,  20,  78,   7,   4],\n",
       "       [ 13,   5,   9,   3,   2,   5,  26,   9,  83,   5],\n",
       "       [  4,   2,  17,   0,   3,   2,  19,   9,   6,  39]])"
      ]
     },
     "execution_count": 37,
     "metadata": {},
     "output_type": "execute_result"
    }
   ],
   "source": [
    "# looking at confusion matrix and classification report to get a better idea of model perfomrance\n",
    "y_pred = rfc.predict(X_test_s)\n",
    "confusion_m = confusion_matrix(y_test_s, y_pred)\n",
    "confusion_m"
   ]
  },
  {
   "cell_type": "code",
   "execution_count": 38,
   "metadata": {},
   "outputs": [
    {
     "name": "stdout",
     "output_type": "stream",
     "text": [
      "              precision    recall  f1-score   support\n",
      "\n",
      "        1989       0.48      0.60      0.53       161\n",
      "    evermore       0.63      0.46      0.53       125\n",
      "    fearless       0.54      0.50      0.52       154\n",
      "    folklore       0.71      0.40      0.51       101\n",
      "       lover       0.76      0.55      0.64       124\n",
      "   midnights       0.61      0.46      0.53       125\n",
      "         red       0.41      0.64      0.50       198\n",
      "  reputation       0.51      0.61      0.56       127\n",
      "   speak now       0.48      0.52      0.50       160\n",
      "taylor swift       0.57      0.39      0.46       101\n",
      "\n",
      "    accuracy                           0.52      1376\n",
      "   macro avg       0.57      0.51      0.53      1376\n",
      "weighted avg       0.55      0.52      0.53      1376\n",
      "\n"
     ]
    }
   ],
   "source": [
    "print(classification_report(y_test_s, y_pred))"
   ]
  },
  {
   "cell_type": "code",
   "execution_count": 57,
   "metadata": {},
   "outputs": [
    {
     "data": {
      "text/html": [
       "<div>\n",
       "<style scoped>\n",
       "    .dataframe tbody tr th:only-of-type {\n",
       "        vertical-align: middle;\n",
       "    }\n",
       "\n",
       "    .dataframe tbody tr th {\n",
       "        vertical-align: top;\n",
       "    }\n",
       "\n",
       "    .dataframe thead th {\n",
       "        text-align: right;\n",
       "    }\n",
       "</style>\n",
       "<table border=\"1\" class=\"dataframe\">\n",
       "  <thead>\n",
       "    <tr style=\"text-align: right;\">\n",
       "      <th></th>\n",
       "      <th>feature</th>\n",
       "      <th>importance</th>\n",
       "    </tr>\n",
       "  </thead>\n",
       "  <tbody>\n",
       "    <tr>\n",
       "      <th>0</th>\n",
       "      <td>you</td>\n",
       "      <td>0.0059</td>\n",
       "    </tr>\n",
       "    <tr>\n",
       "      <th>1</th>\n",
       "      <td>my</td>\n",
       "      <td>0.0035</td>\n",
       "    </tr>\n",
       "    <tr>\n",
       "      <th>2</th>\n",
       "      <td>we</td>\n",
       "      <td>0.0034</td>\n",
       "    </tr>\n",
       "    <tr>\n",
       "      <th>3</th>\n",
       "      <td>me</td>\n",
       "      <td>0.0030</td>\n",
       "    </tr>\n",
       "    <tr>\n",
       "      <th>4</th>\n",
       "      <td>oh</td>\n",
       "      <td>0.0027</td>\n",
       "    </tr>\n",
       "    <tr>\n",
       "      <th>5</th>\n",
       "      <td>your</td>\n",
       "      <td>0.0027</td>\n",
       "    </tr>\n",
       "    <tr>\n",
       "      <th>6</th>\n",
       "      <td>when</td>\n",
       "      <td>0.0026</td>\n",
       "    </tr>\n",
       "    <tr>\n",
       "      <th>7</th>\n",
       "      <td>like</td>\n",
       "      <td>0.0023</td>\n",
       "    </tr>\n",
       "    <tr>\n",
       "      <th>8</th>\n",
       "      <td>now</td>\n",
       "      <td>0.0021</td>\n",
       "    </tr>\n",
       "    <tr>\n",
       "      <th>9</th>\n",
       "      <td>all</td>\n",
       "      <td>0.0021</td>\n",
       "    </tr>\n",
       "  </tbody>\n",
       "</table>\n",
       "</div>"
      ],
      "text/plain": [
       "  feature  importance\n",
       "0     you      0.0059\n",
       "1      my      0.0035\n",
       "2      we      0.0034\n",
       "3      me      0.0030\n",
       "4      oh      0.0027\n",
       "5    your      0.0027\n",
       "6    when      0.0026\n",
       "7    like      0.0023\n",
       "8     now      0.0021\n",
       "9     all      0.0021"
      ]
     },
     "execution_count": 57,
     "metadata": {},
     "output_type": "execute_result"
    }
   ],
   "source": [
    "# interested in seeing the feature importance of each feature for the RF\n",
    "# getting the importance\n",
    "importance = np.round(rfc.feature_importances_, 4)\n",
    "\n",
    "# creating df\n",
    "df_rfc = pd.DataFrame({'feature': feature_names_13, 'importance': importance})\n",
    "\n",
    "# sorting the df\n",
    "df_rfc = df_rfc.sort_values(by='importance', ascending=False)\n",
    "\n",
    "df_rfc = df_rfc.reset_index(drop=True)\n",
    "\n",
    "df_rfc.head(10)\n"
   ]
  },
  {
   "cell_type": "markdown",
   "metadata": {},
   "source": [
    "- Almost all of the same features are present, but with a different order, again confirming that the DTC issue was overfitting."
   ]
  },
  {
   "cell_type": "markdown",
   "metadata": {},
   "source": [
    "**Randomized Search**\n",
    "\n",
    "- I will be using randomized search over grid search here, due to the time/computational complexity of RF."
   ]
  },
  {
   "cell_type": "code",
   "execution_count": 60,
   "metadata": {},
   "outputs": [],
   "source": [
    "from sklearn.model_selection import RandomizedSearchCV"
   ]
  },
  {
   "cell_type": "code",
   "execution_count": 61,
   "metadata": {},
   "outputs": [],
   "source": [
    "# setting possible params \n",
    "parameters = {\n",
    "    \"min_samples_split\": (2, 4),\n",
    "    'max_features': ('sqrt', 'log2', None)\n",
    "}"
   ]
  },
  {
   "cell_type": "code",
   "execution_count": 62,
   "metadata": {},
   "outputs": [
    {
     "name": "stderr",
     "output_type": "stream",
     "text": [
      "/Users/emma/anaconda3/lib/python3.11/site-packages/sklearn/model_selection/_search.py:305: UserWarning: The total space of parameters 6 is smaller than n_iter=10. Running 6 iterations. For exhaustive searches, use GridSearchCV.\n",
      "  warnings.warn(\n"
     ]
    },
    {
     "data": {
      "text/html": [
       "<style>#sk-container-id-1 {color: black;background-color: white;}#sk-container-id-1 pre{padding: 0;}#sk-container-id-1 div.sk-toggleable {background-color: white;}#sk-container-id-1 label.sk-toggleable__label {cursor: pointer;display: block;width: 100%;margin-bottom: 0;padding: 0.3em;box-sizing: border-box;text-align: center;}#sk-container-id-1 label.sk-toggleable__label-arrow:before {content: \"▸\";float: left;margin-right: 0.25em;color: #696969;}#sk-container-id-1 label.sk-toggleable__label-arrow:hover:before {color: black;}#sk-container-id-1 div.sk-estimator:hover label.sk-toggleable__label-arrow:before {color: black;}#sk-container-id-1 div.sk-toggleable__content {max-height: 0;max-width: 0;overflow: hidden;text-align: left;background-color: #f0f8ff;}#sk-container-id-1 div.sk-toggleable__content pre {margin: 0.2em;color: black;border-radius: 0.25em;background-color: #f0f8ff;}#sk-container-id-1 input.sk-toggleable__control:checked~div.sk-toggleable__content {max-height: 200px;max-width: 100%;overflow: auto;}#sk-container-id-1 input.sk-toggleable__control:checked~label.sk-toggleable__label-arrow:before {content: \"▾\";}#sk-container-id-1 div.sk-estimator input.sk-toggleable__control:checked~label.sk-toggleable__label {background-color: #d4ebff;}#sk-container-id-1 div.sk-label input.sk-toggleable__control:checked~label.sk-toggleable__label {background-color: #d4ebff;}#sk-container-id-1 input.sk-hidden--visually {border: 0;clip: rect(1px 1px 1px 1px);clip: rect(1px, 1px, 1px, 1px);height: 1px;margin: -1px;overflow: hidden;padding: 0;position: absolute;width: 1px;}#sk-container-id-1 div.sk-estimator {font-family: monospace;background-color: #f0f8ff;border: 1px dotted black;border-radius: 0.25em;box-sizing: border-box;margin-bottom: 0.5em;}#sk-container-id-1 div.sk-estimator:hover {background-color: #d4ebff;}#sk-container-id-1 div.sk-parallel-item::after {content: \"\";width: 100%;border-bottom: 1px solid gray;flex-grow: 1;}#sk-container-id-1 div.sk-label:hover label.sk-toggleable__label {background-color: #d4ebff;}#sk-container-id-1 div.sk-serial::before {content: \"\";position: absolute;border-left: 1px solid gray;box-sizing: border-box;top: 0;bottom: 0;left: 50%;z-index: 0;}#sk-container-id-1 div.sk-serial {display: flex;flex-direction: column;align-items: center;background-color: white;padding-right: 0.2em;padding-left: 0.2em;position: relative;}#sk-container-id-1 div.sk-item {position: relative;z-index: 1;}#sk-container-id-1 div.sk-parallel {display: flex;align-items: stretch;justify-content: center;background-color: white;position: relative;}#sk-container-id-1 div.sk-item::before, #sk-container-id-1 div.sk-parallel-item::before {content: \"\";position: absolute;border-left: 1px solid gray;box-sizing: border-box;top: 0;bottom: 0;left: 50%;z-index: -1;}#sk-container-id-1 div.sk-parallel-item {display: flex;flex-direction: column;z-index: 1;position: relative;background-color: white;}#sk-container-id-1 div.sk-parallel-item:first-child::after {align-self: flex-end;width: 50%;}#sk-container-id-1 div.sk-parallel-item:last-child::after {align-self: flex-start;width: 50%;}#sk-container-id-1 div.sk-parallel-item:only-child::after {width: 0;}#sk-container-id-1 div.sk-dashed-wrapped {border: 1px dashed gray;margin: 0 0.4em 0.5em 0.4em;box-sizing: border-box;padding-bottom: 0.4em;background-color: white;}#sk-container-id-1 div.sk-label label {font-family: monospace;font-weight: bold;display: inline-block;line-height: 1.2em;}#sk-container-id-1 div.sk-label-container {text-align: center;}#sk-container-id-1 div.sk-container {/* jupyter's `normalize.less` sets `[hidden] { display: none; }` but bootstrap.min.css set `[hidden] { display: none !important; }` so we also need the `!important` here to be able to override the default hidden behavior on the sphinx rendered scikit-learn.org. See: https://github.com/scikit-learn/scikit-learn/issues/21755 */display: inline-block !important;position: relative;}#sk-container-id-1 div.sk-text-repr-fallback {display: none;}</style><div id=\"sk-container-id-1\" class=\"sk-top-container\"><div class=\"sk-text-repr-fallback\"><pre>RandomizedSearchCV(cv=3, estimator=RandomForestClassifier(random_state=13),\n",
       "                   param_distributions={&#x27;max_features&#x27;: (&#x27;sqrt&#x27;, &#x27;log2&#x27;, None),\n",
       "                                        &#x27;min_samples_split&#x27;: (2, 4)})</pre><b>In a Jupyter environment, please rerun this cell to show the HTML representation or trust the notebook. <br />On GitHub, the HTML representation is unable to render, please try loading this page with nbviewer.org.</b></div><div class=\"sk-container\" hidden><div class=\"sk-item sk-dashed-wrapped\"><div class=\"sk-label-container\"><div class=\"sk-label sk-toggleable\"><input class=\"sk-toggleable__control sk-hidden--visually\" id=\"sk-estimator-id-1\" type=\"checkbox\" ><label for=\"sk-estimator-id-1\" class=\"sk-toggleable__label sk-toggleable__label-arrow\">RandomizedSearchCV</label><div class=\"sk-toggleable__content\"><pre>RandomizedSearchCV(cv=3, estimator=RandomForestClassifier(random_state=13),\n",
       "                   param_distributions={&#x27;max_features&#x27;: (&#x27;sqrt&#x27;, &#x27;log2&#x27;, None),\n",
       "                                        &#x27;min_samples_split&#x27;: (2, 4)})</pre></div></div></div><div class=\"sk-parallel\"><div class=\"sk-parallel-item\"><div class=\"sk-item\"><div class=\"sk-label-container\"><div class=\"sk-label sk-toggleable\"><input class=\"sk-toggleable__control sk-hidden--visually\" id=\"sk-estimator-id-2\" type=\"checkbox\" ><label for=\"sk-estimator-id-2\" class=\"sk-toggleable__label sk-toggleable__label-arrow\">estimator: RandomForestClassifier</label><div class=\"sk-toggleable__content\"><pre>RandomForestClassifier(random_state=13)</pre></div></div></div><div class=\"sk-serial\"><div class=\"sk-item\"><div class=\"sk-estimator sk-toggleable\"><input class=\"sk-toggleable__control sk-hidden--visually\" id=\"sk-estimator-id-3\" type=\"checkbox\" ><label for=\"sk-estimator-id-3\" class=\"sk-toggleable__label sk-toggleable__label-arrow\">RandomForestClassifier</label><div class=\"sk-toggleable__content\"><pre>RandomForestClassifier(random_state=13)</pre></div></div></div></div></div></div></div></div></div></div>"
      ],
      "text/plain": [
       "RandomizedSearchCV(cv=3, estimator=RandomForestClassifier(random_state=13),\n",
       "                   param_distributions={'max_features': ('sqrt', 'log2', None),\n",
       "                                        'min_samples_split': (2, 4)})"
      ]
     },
     "execution_count": 62,
     "metadata": {},
     "output_type": "execute_result"
    }
   ],
   "source": [
    "# rfc object\n",
    "rfc_s = RandomForestClassifier(random_state = 13)\n",
    "\n",
    "# random search obj\n",
    "random_search = RandomizedSearchCV(estimator=rfc_s, param_distributions=parameters, cv=3)\n",
    "\n",
    "# fitting\n",
    "random_search.fit(X_train_s, y_train_s)"
   ]
  },
  {
   "cell_type": "code",
   "execution_count": 63,
   "metadata": {},
   "outputs": [
    {
     "data": {
      "text/plain": [
       "{'min_samples_split': 4, 'max_features': 'log2'}"
      ]
     },
     "execution_count": 63,
     "metadata": {},
     "output_type": "execute_result"
    }
   ],
   "source": [
    "best = random_search.best_params_\n",
    "best"
   ]
  },
  {
   "cell_type": "code",
   "execution_count": 64,
   "metadata": {},
   "outputs": [
    {
     "data": {
      "text/plain": [
       "0.605"
      ]
     },
     "execution_count": 64,
     "metadata": {},
     "output_type": "execute_result"
    }
   ],
   "source": [
    "rfc = RandomForestClassifier(random_state = 13, min_samples_split = 4, max_features = 'log2')\n",
    "\n",
    "rfc.fit(X_train_s, y_train_s)\n",
    "\n",
    "round(rfc.score(X_test_s, y_test_s), 3)"
   ]
  }
 ],
 "metadata": {
  "kernelspec": {
   "display_name": "Python 3 (ipykernel)",
   "language": "python",
   "name": "python3"
  },
  "language_info": {
   "codemirror_mode": {
    "name": "ipython",
    "version": 3
   },
   "file_extension": ".py",
   "mimetype": "text/x-python",
   "name": "python",
   "nbconvert_exporter": "python",
   "pygments_lexer": "ipython3",
   "version": "3.11.5"
  }
 },
 "nbformat": 4,
 "nbformat_minor": 2
}
