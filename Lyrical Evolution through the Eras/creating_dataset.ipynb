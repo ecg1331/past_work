{
 "cells": [
  {
   "cell_type": "markdown",
   "metadata": {},
   "source": [
    "![](https://i.imgur.com/EHwHRCJ.jpeg)"
   ]
  },
  {
   "cell_type": "code",
   "execution_count": 1,
   "metadata": {},
   "outputs": [],
   "source": [
    "import pandas as pd"
   ]
  },
  {
   "cell_type": "code",
   "execution_count": 50,
   "metadata": {},
   "outputs": [],
   "source": [
    "# THREE LINE TEST\n",
    "def getting_lines(dataframe):\n",
    "    '''\n",
    "    Extracting lyrics from original datframe\n",
    "    Inputs: dataframe (dataframe)\n",
    "    Returns: lines (list) a list of seperated lines\n",
    "    '''\n",
    "    \n",
    "    lines = []\n",
    "    \n",
    "    for _, row in dataframe.iterrows(): \n",
    "        lyrics = row['lyric']\n",
    "        lines.extend(lyrics.split('\\n'))\n",
    "    \n",
    "    return lines"
   ]
  },
  {
   "cell_type": "code",
   "execution_count": null,
   "metadata": {},
   "outputs": [],
   "source": [
    "def changing_length(dataframe, third_line=False):\n",
    "    \n",
    "    '''\n",
    "    Changing the length of lyric snippits\n",
    "    Inputs: dataframe (dataframe)\n",
    "    Returns: new_length (list of lists) of concatenated lines\n",
    "    '''\n",
    "    \n",
    "    new_length = []\n",
    "    lines = getting_lines(dataframe)\n",
    "    \n",
    "    if third_line:\n",
    "        step = 3\n",
    "    else:\n",
    "        step = 2\n",
    "\n",
    "    for i in range(0, len(lines), step):\n",
    "        line = lines[i]\n",
    "\n",
    "        if i + 1 < len(lines):\n",
    "            second_line = lines[i + 1]\n",
    "            line = line + \" \" + second_line\n",
    "        \n",
    "        if third_line:\n",
    "            if i + 2 < len(lines):\n",
    "                third_line = lines[i + 2]\n",
    "                line = line + \" \" + third_line\n",
    "            \n",
    "        new_length.append(line)\n",
    "        \n",
    "    return new_length"
   ]
  },
  {
   "cell_type": "code",
   "execution_count": null,
   "metadata": {},
   "outputs": [],
   "source": [
    "def creating_df(album_name, track, track_n, lyrics):\n",
    "    '''\n",
    "    Creates a dataframe based on parameters\n",
    "    Inputs: \n",
    "        album_name: (str) name of album\n",
    "        track: (str) track name\n",
    "        track_n: (int) track number\n",
    "        lyrics: (str) previously concatenated lyric snippet\n",
    "    Returns: (df) created dataframe\n",
    "    '''\n",
    "    df = pd.DataFrame({\n",
    "    'album_name': album_name ,\n",
    "    'track': track,\n",
    "    'track_n': track_n,\n",
    "    'lyrics': lyrics})\n",
    "    \n",
    "    return df"
   ]
  },
  {
   "cell_type": "code",
   "execution_count": null,
   "metadata": {},
   "outputs": [],
   "source": [
    "def album_df(csv, num_tracks, third_line):\n",
    "\n",
    "    csv = pd.read_csv(csv)\n",
    "    song_df = []\n",
    "    num_tracks = num_tracks + 1\n",
    "    \n",
    "    try:\n",
    "        for i in range(1, num_tracks):\n",
    "\n",
    "            df = csv[csv['track_n'] == i]\n",
    "\n",
    "            album_name = df['album_name'].iloc[0]\n",
    "            track = df['track_title'].iloc[0]\n",
    "            track_n = df['track_n'].iloc[0]\n",
    "            print('track:', track,\n",
    "                  'track_n:', track_n)\n",
    "\n",
    "            lyrics = changing_length(df, third_line)\n",
    "            new_df = creating_df(album_name, track, track_n, lyrics)\n",
    "            song_df.append(new_df)\n",
    "            \n",
    "        album_df = pd.concat(song_df, ignore_index=True)\n",
    "\n",
    "        album_df.to_csv(f'{album_name}.csv')\n",
    "\n",
    "        return album_df\n",
    "\n",
    "    except Exception as e:\n",
    "        print('error', e)"
   ]
  },
  {
   "cell_type": "code",
   "execution_count": 63,
   "metadata": {},
   "outputs": [
    {
     "name": "stdout",
     "output_type": "stream",
     "text": [
      "track: willow track_n: 1\n",
      "track: champagne problems track_n: 2\n",
      "track: ​gold rush track_n: 3\n",
      "track: ​’tis the damn season track_n: 4\n",
      "track: ​tolerate it track_n: 5\n",
      "track: ​no body, no crime track_n: 6\n",
      "track: ​happiness track_n: 7\n",
      "track: ​dorothea track_n: 8\n",
      "track: ​coney island track_n: 9\n",
      "track: ​ivy track_n: 10\n",
      "track: cowboy like me track_n: 11\n",
      "track: ​l​ong story short track_n: 12\n",
      "track: ​marjorie track_n: 13\n",
      "track: ​closure track_n: 14\n",
      "track: ​evermore track_n: 15\n",
      "track: ​r​ight where you left me track_n: 16\n",
      "track: ​it’s time to go track_n: 17\n"
     ]
    }
   ],
   "source": [
    "csv = '09-evermore_deluxe_version.csv'\n",
    "evermore2 = album_df(csv, 17, True)"
   ]
  }
 ],
 "metadata": {
  "kernelspec": {
   "display_name": "base",
   "language": "python",
   "name": "python3"
  },
  "language_info": {
   "codemirror_mode": {
    "name": "ipython",
    "version": 3
   },
   "file_extension": ".py",
   "mimetype": "text/x-python",
   "name": "python",
   "nbconvert_exporter": "python",
   "pygments_lexer": "ipython3",
   "version": "3.11.5"
  }
 },
 "nbformat": 4,
 "nbformat_minor": 2
}
